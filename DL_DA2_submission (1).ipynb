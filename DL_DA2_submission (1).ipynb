{
  "nbformat": 4,
  "nbformat_minor": 0,
  "metadata": {
    "colab": {
      "provenance": []
    },
    "kernelspec": {
      "name": "python3",
      "display_name": "Python 3"
    },
    "language_info": {
      "name": "python"
    },
    "gpuClass": "standard"
  },
  "cells": [
    {
      "cell_type": "code",
      "execution_count": null,
      "metadata": {
        "colab": {
          "base_uri": "https://localhost:8080/"
        },
        "id": "ynPOGQMB8aYw",
        "outputId": "773d75b7-5a67-4857-f37c-bf446b7e793e"
      },
      "outputs": [
        {
          "output_type": "stream",
          "name": "stdout",
          "text": [
            "Looking in indexes: https://pypi.org/simple, https://us-python.pkg.dev/colab-wheels/public/simple/\n",
            "Requirement already satisfied: kaggle in /usr/local/lib/python3.9/dist-packages (1.5.13)\n",
            "Requirement already satisfied: tqdm in /usr/local/lib/python3.9/dist-packages (from kaggle) (4.65.0)\n",
            "Requirement already satisfied: python-slugify in /usr/local/lib/python3.9/dist-packages (from kaggle) (8.0.1)\n",
            "Requirement already satisfied: requests in /usr/local/lib/python3.9/dist-packages (from kaggle) (2.27.1)\n",
            "Requirement already satisfied: urllib3 in /usr/local/lib/python3.9/dist-packages (from kaggle) (1.26.15)\n",
            "Requirement already satisfied: certifi in /usr/local/lib/python3.9/dist-packages (from kaggle) (2022.12.7)\n",
            "Requirement already satisfied: six>=1.10 in /usr/local/lib/python3.9/dist-packages (from kaggle) (1.16.0)\n",
            "Requirement already satisfied: python-dateutil in /usr/local/lib/python3.9/dist-packages (from kaggle) (2.8.2)\n",
            "Requirement already satisfied: text-unidecode>=1.3 in /usr/local/lib/python3.9/dist-packages (from python-slugify->kaggle) (1.3)\n",
            "Requirement already satisfied: charset-normalizer~=2.0.0 in /usr/local/lib/python3.9/dist-packages (from requests->kaggle) (2.0.12)\n",
            "Requirement already satisfied: idna<4,>=2.5 in /usr/local/lib/python3.9/dist-packages (from requests->kaggle) (3.4)\n"
          ]
        }
      ],
      "source": [
        "! pip install kaggle"
      ]
    },
    {
      "cell_type": "code",
      "source": [
        "pip install opendatasets"
      ],
      "metadata": {
        "colab": {
          "base_uri": "https://localhost:8080/"
        },
        "id": "Jahfh8NG8uKR",
        "outputId": "29542a5a-5215-4904-f17e-c042b91c3b81"
      },
      "execution_count": null,
      "outputs": [
        {
          "output_type": "stream",
          "name": "stdout",
          "text": [
            "Looking in indexes: https://pypi.org/simple, https://us-python.pkg.dev/colab-wheels/public/simple/\n",
            "Collecting opendatasets\n",
            "  Downloading opendatasets-0.1.22-py3-none-any.whl (15 kB)\n",
            "Requirement already satisfied: kaggle in /usr/local/lib/python3.9/dist-packages (from opendatasets) (1.5.13)\n",
            "Requirement already satisfied: click in /usr/local/lib/python3.9/dist-packages (from opendatasets) (8.1.3)\n",
            "Requirement already satisfied: tqdm in /usr/local/lib/python3.9/dist-packages (from opendatasets) (4.65.0)\n",
            "Requirement already satisfied: certifi in /usr/local/lib/python3.9/dist-packages (from kaggle->opendatasets) (2022.12.7)\n",
            "Requirement already satisfied: python-slugify in /usr/local/lib/python3.9/dist-packages (from kaggle->opendatasets) (8.0.1)\n",
            "Requirement already satisfied: python-dateutil in /usr/local/lib/python3.9/dist-packages (from kaggle->opendatasets) (2.8.2)\n",
            "Requirement already satisfied: six>=1.10 in /usr/local/lib/python3.9/dist-packages (from kaggle->opendatasets) (1.16.0)\n",
            "Requirement already satisfied: urllib3 in /usr/local/lib/python3.9/dist-packages (from kaggle->opendatasets) (1.26.15)\n",
            "Requirement already satisfied: requests in /usr/local/lib/python3.9/dist-packages (from kaggle->opendatasets) (2.27.1)\n",
            "Requirement already satisfied: text-unidecode>=1.3 in /usr/local/lib/python3.9/dist-packages (from python-slugify->kaggle->opendatasets) (1.3)\n",
            "Requirement already satisfied: charset-normalizer~=2.0.0 in /usr/local/lib/python3.9/dist-packages (from requests->kaggle->opendatasets) (2.0.12)\n",
            "Requirement already satisfied: idna<4,>=2.5 in /usr/local/lib/python3.9/dist-packages (from requests->kaggle->opendatasets) (3.4)\n",
            "Installing collected packages: opendatasets\n",
            "Successfully installed opendatasets-0.1.22\n"
          ]
        }
      ]
    },
    {
      "cell_type": "code",
      "source": [
        "import opendatasets as od\n",
        "od.download(\"https://www.kaggle.com/competitions/goodreads-books-reviews-290312/data\")\n"
      ],
      "metadata": {
        "colab": {
          "base_uri": "https://localhost:8080/"
        },
        "id": "R-o6DnTO8xsv",
        "outputId": "93316b49-d8c1-48a3-a2f6-bcc383eb73ae"
      },
      "execution_count": null,
      "outputs": [
        {
          "output_type": "stream",
          "name": "stdout",
          "text": [
            "Please provide your Kaggle credentials to download this dataset. Learn more: http://bit.ly/kaggle-creds\n",
            "Your Kaggle username: saitejabandaru\n",
            "Your Kaggle Key: ··········\n",
            "Downloading goodreads-books-reviews-290312.zip to ./goodreads-books-reviews-290312\n"
          ]
        },
        {
          "output_type": "stream",
          "name": "stderr",
          "text": [
            "100%|██████████| 635M/635M [00:16<00:00, 41.3MB/s]\n"
          ]
        },
        {
          "output_type": "stream",
          "name": "stdout",
          "text": [
            "\n",
            "Extracting archive ./goodreads-books-reviews-290312/goodreads-books-reviews-290312.zip to ./goodreads-books-reviews-290312\n"
          ]
        }
      ]
    },
    {
      "cell_type": "code",
      "source": [
        "import numpy as np\n",
        "import pandas as pd"
      ],
      "metadata": {
        "id": "1nHkne0y81Jz"
      },
      "execution_count": null,
      "outputs": []
    },
    {
      "cell_type": "code",
      "source": [
        "import csv\n",
        "import re \n",
        "import string\n",
        "from sklearn.model_selection import train_test_split\n",
        "from sklearn.feature_extraction.text import CountVectorizer\n",
        "from sklearn.feature_extraction.text import TfidfVectorizer"
      ],
      "metadata": {
        "id": "bDblh2NVCGBD"
      },
      "execution_count": null,
      "outputs": []
    },
    {
      "cell_type": "code",
      "source": [
        "train_df = pd.read_csv(\"/content/goodreads-books-reviews-290312/goodreads_train.csv\")\n",
        "test_df = pd.read_csv(\"/content/goodreads-books-reviews-290312/goodreads_test.csv\")"
      ],
      "metadata": {
        "id": "R9iW7tmMCIfN"
      },
      "execution_count": null,
      "outputs": []
    },
    {
      "cell_type": "code",
      "source": [
        "print(len(train_df))\n",
        "print(len(test_df))\n",
        "train_df"
      ],
      "metadata": {
        "colab": {
          "base_uri": "https://localhost:8080/",
          "height": 1000
        },
        "id": "n_rCqOzTDPL-",
        "outputId": "d17f8d2a-a6c2-43fc-a285-44de405cb603"
      },
      "execution_count": null,
      "outputs": [
        {
          "output_type": "stream",
          "name": "stdout",
          "text": [
            "900000\n",
            "478033\n"
          ]
        },
        {
          "output_type": "execute_result",
          "data": {
            "text/plain": [
              "                                 user_id   book_id  \\\n",
              "0       8842281e1d1347389f2ab93d60773d4d  18245960   \n",
              "1       8842281e1d1347389f2ab93d60773d4d     16981   \n",
              "2       8842281e1d1347389f2ab93d60773d4d  28684704   \n",
              "3       8842281e1d1347389f2ab93d60773d4d  27161156   \n",
              "4       8842281e1d1347389f2ab93d60773d4d  25884323   \n",
              "...                                  ...       ...   \n",
              "899995  b9450d1c1f97f891c392b1105959b56e  11832081   \n",
              "899996  b9450d1c1f97f891c392b1105959b56e  16095092   \n",
              "899997  b9450d1c1f97f891c392b1105959b56e   8430896   \n",
              "899998  b9450d1c1f97f891c392b1105959b56e  12275680   \n",
              "899999  b9450d1c1f97f891c392b1105959b56e     17005   \n",
              "\n",
              "                               review_id  rating  \\\n",
              "0       dfdbb7b0eb5a7e4c26d59a937e2e5feb       5   \n",
              "1       a5d2c3628987712d0e05c4f90798eb67       3   \n",
              "2       2ede853b14dc4583f96cf5d120af636f       3   \n",
              "3       ced5675e55cd9d38a524743f5c40996e       0   \n",
              "4       332732725863131279a8e345b63ac33e       4   \n",
              "...                                  ...     ...   \n",
              "899995  7c34c15ad8cb28a4afca32946e2016ea       3   \n",
              "899996  e979c735276431915d089cfaf446d64f       3   \n",
              "899997  feb9fe6439f9fbba8a1cce36020ad977       4   \n",
              "899998  741e29369f70531bfffbd02add86f228       4   \n",
              "899999  d55f3a967230940e75a314700caec9a5       3   \n",
              "\n",
              "                                              review_text  \\\n",
              "0       This is a special book. It started slow for ab...   \n",
              "1       Recommended by Don Katz. Avail for free in Dec...   \n",
              "2       A fun, fast paced science fiction thriller. I ...   \n",
              "3       Recommended reading to understand what is goin...   \n",
              "4       I really enjoyed this book, and there is a lot...   \n",
              "...                                                   ...   \n",
              "899995  3.5 stars. \\n Jenna is a popular YA author and...   \n",
              "899996  This was a quick read for me. I have read a lo...   \n",
              "899997  ** spoiler alert ** \\n 3.5 stars. \\n This book...   \n",
              "899998  ** spoiler alert ** \\n Another fun read from M...   \n",
              "899999  ** spoiler alert ** \\n 3.5 stars \\n I liked it...   \n",
              "\n",
              "                            date_added                    date_updated  \\\n",
              "0       Sun Jul 30 07:44:10 -0700 2017  Wed Aug 30 00:00:26 -0700 2017   \n",
              "1       Mon Dec 05 10:46:44 -0800 2016  Wed Mar 22 11:37:04 -0700 2017   \n",
              "2       Tue Nov 15 11:29:22 -0800 2016  Mon Mar 20 23:40:27 -0700 2017   \n",
              "3       Wed Nov 09 17:37:04 -0800 2016  Wed Nov 09 17:38:20 -0800 2016   \n",
              "4       Mon Apr 25 09:31:23 -0700 2016  Mon Apr 25 09:31:23 -0700 2016   \n",
              "...                                ...                             ...   \n",
              "899995  Fri Nov 16 22:10:17 -0800 2012  Sat Nov 17 22:42:44 -0800 2012   \n",
              "899996  Fri Nov 16 22:09:49 -0800 2012  Sat Nov 17 23:38:58 -0800 2012   \n",
              "899997  Tue Nov 13 05:38:24 -0800 2012  Tue Nov 13 23:29:17 -0800 2012   \n",
              "899998  Mon Nov 12 05:42:30 -0800 2012  Tue Nov 13 22:32:05 -0800 2012   \n",
              "899999  Sun Nov 11 00:05:43 -0800 2012  Sun Nov 11 21:59:08 -0800 2012   \n",
              "\n",
              "                               read_at                      started_at  \\\n",
              "0       Sat Aug 26 12:05:52 -0700 2017  Tue Aug 15 13:23:18 -0700 2017   \n",
              "1                                  NaN                             NaN   \n",
              "2       Sat Mar 18 23:22:42 -0700 2017  Fri Mar 17 23:45:40 -0700 2017   \n",
              "3                                  NaN                             NaN   \n",
              "4       Sun Jun 26 00:00:00 -0700 2016  Sat May 28 00:00:00 -0700 2016   \n",
              "...                                ...                             ...   \n",
              "899995  Sat Nov 17 00:00:00 -0800 2012  Fri Nov 16 00:00:00 -0800 2012   \n",
              "899996  Sat Nov 17 00:00:00 -0800 2012  Fri Nov 16 00:00:00 -0800 2012   \n",
              "899997  Tue Nov 13 00:00:00 -0800 2012  Tue Nov 13 00:00:00 -0800 2012   \n",
              "899998  Tue Nov 13 00:00:00 -0800 2012  Mon Nov 12 00:00:00 -0800 2012   \n",
              "899999  Sun Nov 11 00:00:00 -0800 2012  Sun Nov 11 00:00:00 -0800 2012   \n",
              "\n",
              "        n_votes  n_comments  \n",
              "0            28           1  \n",
              "1             1           0  \n",
              "2            22           0  \n",
              "3             5           1  \n",
              "4             9           1  \n",
              "...         ...         ...  \n",
              "899995        0           0  \n",
              "899996        1           1  \n",
              "899997        1           0  \n",
              "899998        0           0  \n",
              "899999        0           0  \n",
              "\n",
              "[900000 rows x 11 columns]"
            ],
            "text/html": [
              "\n",
              "  <div id=\"df-2d42a45b-aa94-4f26-ba7c-bda7013cdbe2\">\n",
              "    <div class=\"colab-df-container\">\n",
              "      <div>\n",
              "<style scoped>\n",
              "    .dataframe tbody tr th:only-of-type {\n",
              "        vertical-align: middle;\n",
              "    }\n",
              "\n",
              "    .dataframe tbody tr th {\n",
              "        vertical-align: top;\n",
              "    }\n",
              "\n",
              "    .dataframe thead th {\n",
              "        text-align: right;\n",
              "    }\n",
              "</style>\n",
              "<table border=\"1\" class=\"dataframe\">\n",
              "  <thead>\n",
              "    <tr style=\"text-align: right;\">\n",
              "      <th></th>\n",
              "      <th>user_id</th>\n",
              "      <th>book_id</th>\n",
              "      <th>review_id</th>\n",
              "      <th>rating</th>\n",
              "      <th>review_text</th>\n",
              "      <th>date_added</th>\n",
              "      <th>date_updated</th>\n",
              "      <th>read_at</th>\n",
              "      <th>started_at</th>\n",
              "      <th>n_votes</th>\n",
              "      <th>n_comments</th>\n",
              "    </tr>\n",
              "  </thead>\n",
              "  <tbody>\n",
              "    <tr>\n",
              "      <th>0</th>\n",
              "      <td>8842281e1d1347389f2ab93d60773d4d</td>\n",
              "      <td>18245960</td>\n",
              "      <td>dfdbb7b0eb5a7e4c26d59a937e2e5feb</td>\n",
              "      <td>5</td>\n",
              "      <td>This is a special book. It started slow for ab...</td>\n",
              "      <td>Sun Jul 30 07:44:10 -0700 2017</td>\n",
              "      <td>Wed Aug 30 00:00:26 -0700 2017</td>\n",
              "      <td>Sat Aug 26 12:05:52 -0700 2017</td>\n",
              "      <td>Tue Aug 15 13:23:18 -0700 2017</td>\n",
              "      <td>28</td>\n",
              "      <td>1</td>\n",
              "    </tr>\n",
              "    <tr>\n",
              "      <th>1</th>\n",
              "      <td>8842281e1d1347389f2ab93d60773d4d</td>\n",
              "      <td>16981</td>\n",
              "      <td>a5d2c3628987712d0e05c4f90798eb67</td>\n",
              "      <td>3</td>\n",
              "      <td>Recommended by Don Katz. Avail for free in Dec...</td>\n",
              "      <td>Mon Dec 05 10:46:44 -0800 2016</td>\n",
              "      <td>Wed Mar 22 11:37:04 -0700 2017</td>\n",
              "      <td>NaN</td>\n",
              "      <td>NaN</td>\n",
              "      <td>1</td>\n",
              "      <td>0</td>\n",
              "    </tr>\n",
              "    <tr>\n",
              "      <th>2</th>\n",
              "      <td>8842281e1d1347389f2ab93d60773d4d</td>\n",
              "      <td>28684704</td>\n",
              "      <td>2ede853b14dc4583f96cf5d120af636f</td>\n",
              "      <td>3</td>\n",
              "      <td>A fun, fast paced science fiction thriller. I ...</td>\n",
              "      <td>Tue Nov 15 11:29:22 -0800 2016</td>\n",
              "      <td>Mon Mar 20 23:40:27 -0700 2017</td>\n",
              "      <td>Sat Mar 18 23:22:42 -0700 2017</td>\n",
              "      <td>Fri Mar 17 23:45:40 -0700 2017</td>\n",
              "      <td>22</td>\n",
              "      <td>0</td>\n",
              "    </tr>\n",
              "    <tr>\n",
              "      <th>3</th>\n",
              "      <td>8842281e1d1347389f2ab93d60773d4d</td>\n",
              "      <td>27161156</td>\n",
              "      <td>ced5675e55cd9d38a524743f5c40996e</td>\n",
              "      <td>0</td>\n",
              "      <td>Recommended reading to understand what is goin...</td>\n",
              "      <td>Wed Nov 09 17:37:04 -0800 2016</td>\n",
              "      <td>Wed Nov 09 17:38:20 -0800 2016</td>\n",
              "      <td>NaN</td>\n",
              "      <td>NaN</td>\n",
              "      <td>5</td>\n",
              "      <td>1</td>\n",
              "    </tr>\n",
              "    <tr>\n",
              "      <th>4</th>\n",
              "      <td>8842281e1d1347389f2ab93d60773d4d</td>\n",
              "      <td>25884323</td>\n",
              "      <td>332732725863131279a8e345b63ac33e</td>\n",
              "      <td>4</td>\n",
              "      <td>I really enjoyed this book, and there is a lot...</td>\n",
              "      <td>Mon Apr 25 09:31:23 -0700 2016</td>\n",
              "      <td>Mon Apr 25 09:31:23 -0700 2016</td>\n",
              "      <td>Sun Jun 26 00:00:00 -0700 2016</td>\n",
              "      <td>Sat May 28 00:00:00 -0700 2016</td>\n",
              "      <td>9</td>\n",
              "      <td>1</td>\n",
              "    </tr>\n",
              "    <tr>\n",
              "      <th>...</th>\n",
              "      <td>...</td>\n",
              "      <td>...</td>\n",
              "      <td>...</td>\n",
              "      <td>...</td>\n",
              "      <td>...</td>\n",
              "      <td>...</td>\n",
              "      <td>...</td>\n",
              "      <td>...</td>\n",
              "      <td>...</td>\n",
              "      <td>...</td>\n",
              "      <td>...</td>\n",
              "    </tr>\n",
              "    <tr>\n",
              "      <th>899995</th>\n",
              "      <td>b9450d1c1f97f891c392b1105959b56e</td>\n",
              "      <td>11832081</td>\n",
              "      <td>7c34c15ad8cb28a4afca32946e2016ea</td>\n",
              "      <td>3</td>\n",
              "      <td>3.5 stars. \\n Jenna is a popular YA author and...</td>\n",
              "      <td>Fri Nov 16 22:10:17 -0800 2012</td>\n",
              "      <td>Sat Nov 17 22:42:44 -0800 2012</td>\n",
              "      <td>Sat Nov 17 00:00:00 -0800 2012</td>\n",
              "      <td>Fri Nov 16 00:00:00 -0800 2012</td>\n",
              "      <td>0</td>\n",
              "      <td>0</td>\n",
              "    </tr>\n",
              "    <tr>\n",
              "      <th>899996</th>\n",
              "      <td>b9450d1c1f97f891c392b1105959b56e</td>\n",
              "      <td>16095092</td>\n",
              "      <td>e979c735276431915d089cfaf446d64f</td>\n",
              "      <td>3</td>\n",
              "      <td>This was a quick read for me. I have read a lo...</td>\n",
              "      <td>Fri Nov 16 22:09:49 -0800 2012</td>\n",
              "      <td>Sat Nov 17 23:38:58 -0800 2012</td>\n",
              "      <td>Sat Nov 17 00:00:00 -0800 2012</td>\n",
              "      <td>Fri Nov 16 00:00:00 -0800 2012</td>\n",
              "      <td>1</td>\n",
              "      <td>1</td>\n",
              "    </tr>\n",
              "    <tr>\n",
              "      <th>899997</th>\n",
              "      <td>b9450d1c1f97f891c392b1105959b56e</td>\n",
              "      <td>8430896</td>\n",
              "      <td>feb9fe6439f9fbba8a1cce36020ad977</td>\n",
              "      <td>4</td>\n",
              "      <td>** spoiler alert ** \\n 3.5 stars. \\n This book...</td>\n",
              "      <td>Tue Nov 13 05:38:24 -0800 2012</td>\n",
              "      <td>Tue Nov 13 23:29:17 -0800 2012</td>\n",
              "      <td>Tue Nov 13 00:00:00 -0800 2012</td>\n",
              "      <td>Tue Nov 13 00:00:00 -0800 2012</td>\n",
              "      <td>1</td>\n",
              "      <td>0</td>\n",
              "    </tr>\n",
              "    <tr>\n",
              "      <th>899998</th>\n",
              "      <td>b9450d1c1f97f891c392b1105959b56e</td>\n",
              "      <td>12275680</td>\n",
              "      <td>741e29369f70531bfffbd02add86f228</td>\n",
              "      <td>4</td>\n",
              "      <td>** spoiler alert ** \\n Another fun read from M...</td>\n",
              "      <td>Mon Nov 12 05:42:30 -0800 2012</td>\n",
              "      <td>Tue Nov 13 22:32:05 -0800 2012</td>\n",
              "      <td>Tue Nov 13 00:00:00 -0800 2012</td>\n",
              "      <td>Mon Nov 12 00:00:00 -0800 2012</td>\n",
              "      <td>0</td>\n",
              "      <td>0</td>\n",
              "    </tr>\n",
              "    <tr>\n",
              "      <th>899999</th>\n",
              "      <td>b9450d1c1f97f891c392b1105959b56e</td>\n",
              "      <td>17005</td>\n",
              "      <td>d55f3a967230940e75a314700caec9a5</td>\n",
              "      <td>3</td>\n",
              "      <td>** spoiler alert ** \\n 3.5 stars \\n I liked it...</td>\n",
              "      <td>Sun Nov 11 00:05:43 -0800 2012</td>\n",
              "      <td>Sun Nov 11 21:59:08 -0800 2012</td>\n",
              "      <td>Sun Nov 11 00:00:00 -0800 2012</td>\n",
              "      <td>Sun Nov 11 00:00:00 -0800 2012</td>\n",
              "      <td>0</td>\n",
              "      <td>0</td>\n",
              "    </tr>\n",
              "  </tbody>\n",
              "</table>\n",
              "<p>900000 rows × 11 columns</p>\n",
              "</div>\n",
              "      <button class=\"colab-df-convert\" onclick=\"convertToInteractive('df-2d42a45b-aa94-4f26-ba7c-bda7013cdbe2')\"\n",
              "              title=\"Convert this dataframe to an interactive table.\"\n",
              "              style=\"display:none;\">\n",
              "        \n",
              "  <svg xmlns=\"http://www.w3.org/2000/svg\" height=\"24px\"viewBox=\"0 0 24 24\"\n",
              "       width=\"24px\">\n",
              "    <path d=\"M0 0h24v24H0V0z\" fill=\"none\"/>\n",
              "    <path d=\"M18.56 5.44l.94 2.06.94-2.06 2.06-.94-2.06-.94-.94-2.06-.94 2.06-2.06.94zm-11 1L8.5 8.5l.94-2.06 2.06-.94-2.06-.94L8.5 2.5l-.94 2.06-2.06.94zm10 10l.94 2.06.94-2.06 2.06-.94-2.06-.94-.94-2.06-.94 2.06-2.06.94z\"/><path d=\"M17.41 7.96l-1.37-1.37c-.4-.4-.92-.59-1.43-.59-.52 0-1.04.2-1.43.59L10.3 9.45l-7.72 7.72c-.78.78-.78 2.05 0 2.83L4 21.41c.39.39.9.59 1.41.59.51 0 1.02-.2 1.41-.59l7.78-7.78 2.81-2.81c.8-.78.8-2.07 0-2.86zM5.41 20L4 18.59l7.72-7.72 1.47 1.35L5.41 20z\"/>\n",
              "  </svg>\n",
              "      </button>\n",
              "      \n",
              "  <style>\n",
              "    .colab-df-container {\n",
              "      display:flex;\n",
              "      flex-wrap:wrap;\n",
              "      gap: 12px;\n",
              "    }\n",
              "\n",
              "    .colab-df-convert {\n",
              "      background-color: #E8F0FE;\n",
              "      border: none;\n",
              "      border-radius: 50%;\n",
              "      cursor: pointer;\n",
              "      display: none;\n",
              "      fill: #1967D2;\n",
              "      height: 32px;\n",
              "      padding: 0 0 0 0;\n",
              "      width: 32px;\n",
              "    }\n",
              "\n",
              "    .colab-df-convert:hover {\n",
              "      background-color: #E2EBFA;\n",
              "      box-shadow: 0px 1px 2px rgba(60, 64, 67, 0.3), 0px 1px 3px 1px rgba(60, 64, 67, 0.15);\n",
              "      fill: #174EA6;\n",
              "    }\n",
              "\n",
              "    [theme=dark] .colab-df-convert {\n",
              "      background-color: #3B4455;\n",
              "      fill: #D2E3FC;\n",
              "    }\n",
              "\n",
              "    [theme=dark] .colab-df-convert:hover {\n",
              "      background-color: #434B5C;\n",
              "      box-shadow: 0px 1px 3px 1px rgba(0, 0, 0, 0.15);\n",
              "      filter: drop-shadow(0px 1px 2px rgba(0, 0, 0, 0.3));\n",
              "      fill: #FFFFFF;\n",
              "    }\n",
              "  </style>\n",
              "\n",
              "      <script>\n",
              "        const buttonEl =\n",
              "          document.querySelector('#df-2d42a45b-aa94-4f26-ba7c-bda7013cdbe2 button.colab-df-convert');\n",
              "        buttonEl.style.display =\n",
              "          google.colab.kernel.accessAllowed ? 'block' : 'none';\n",
              "\n",
              "        async function convertToInteractive(key) {\n",
              "          const element = document.querySelector('#df-2d42a45b-aa94-4f26-ba7c-bda7013cdbe2');\n",
              "          const dataTable =\n",
              "            await google.colab.kernel.invokeFunction('convertToInteractive',\n",
              "                                                     [key], {});\n",
              "          if (!dataTable) return;\n",
              "\n",
              "          const docLinkHtml = 'Like what you see? Visit the ' +\n",
              "            '<a target=\"_blank\" href=https://colab.research.google.com/notebooks/data_table.ipynb>data table notebook</a>'\n",
              "            + ' to learn more about interactive tables.';\n",
              "          element.innerHTML = '';\n",
              "          dataTable['output_type'] = 'display_data';\n",
              "          await google.colab.output.renderOutput(dataTable, element);\n",
              "          const docLink = document.createElement('div');\n",
              "          docLink.innerHTML = docLinkHtml;\n",
              "          element.appendChild(docLink);\n",
              "        }\n",
              "      </script>\n",
              "    </div>\n",
              "  </div>\n",
              "  "
            ]
          },
          "metadata": {},
          "execution_count": 7
        }
      ]
    },
    {
      "cell_type": "code",
      "source": [
        "import matplotlib.pyplot as plt\n",
        "import seaborn as sns\n",
        "sns.countplot(x = train_df.rating)\n"
      ],
      "metadata": {
        "colab": {
          "base_uri": "https://localhost:8080/",
          "height": 296
        },
        "id": "aagqYmmSE1fk",
        "outputId": "903ee48b-efcb-4083-9242-42bc978e74af"
      },
      "execution_count": null,
      "outputs": [
        {
          "output_type": "execute_result",
          "data": {
            "text/plain": [
              "<Axes: xlabel='rating', ylabel='count'>"
            ]
          },
          "metadata": {},
          "execution_count": 8
        },
        {
          "output_type": "display_data",
          "data": {
            "text/plain": [
              "<Figure size 432x288 with 1 Axes>"
            ],
            "image/png": "[encoded data removed]"
          },
          "metadata": {
            "needs_background": "light"
          }
        }
      ]
    },
    {
      "cell_type": "code",
      "source": [
        "train_df.isna().sum()"
      ],
      "metadata": {
        "colab": {
          "base_uri": "https://localhost:8080/"
        },
        "id": "jtvDeABxHIx5",
        "outputId": "c060c13f-d679-4a84-8e1e-cb84d445d4f7"
      },
      "execution_count": null,
      "outputs": [
        {
          "output_type": "execute_result",
          "data": {
            "text/plain": [
              "user_id              0\n",
              "book_id              0\n",
              "review_id            0\n",
              "rating               0\n",
              "review_text          0\n",
              "date_added           0\n",
              "date_updated         0\n",
              "read_at          91766\n",
              "started_at      274297\n",
              "n_votes              0\n",
              "n_comments           0\n",
              "dtype: int64"
            ]
          },
          "metadata": {},
          "execution_count": 9
        }
      ]
    },
    {
      "cell_type": "code",
      "source": [
        "test_df.isna().sum()"
      ],
      "metadata": {
        "colab": {
          "base_uri": "https://localhost:8080/"
        },
        "id": "X21KKS95HRJ6",
        "outputId": "2bce91f5-8f9a-4aba-a05f-43dd7c227471"
      },
      "execution_count": null,
      "outputs": [
        {
          "output_type": "execute_result",
          "data": {
            "text/plain": [
              "user_id              0\n",
              "book_id              0\n",
              "review_id            0\n",
              "review_text          0\n",
              "date_added           0\n",
              "date_updated         0\n",
              "read_at          42478\n",
              "started_at      143044\n",
              "n_votes              0\n",
              "n_comments           0\n",
              "dtype: int64"
            ]
          },
          "metadata": {},
          "execution_count": 10
        }
      ]
    },
    {
      "cell_type": "code",
      "source": [
        "common_df = pd.concat([train_df.review_text, test_df.review_text]).reset_index(drop = True)\n",
        "common_df"
      ],
      "metadata": {
        "colab": {
          "base_uri": "https://localhost:8080/"
        },
        "id": "4yhJ_QJ8HSmU",
        "outputId": "098db777-80ff-467b-e769-568ea75061a7"
      },
      "execution_count": null,
      "outputs": [
        {
          "output_type": "execute_result",
          "data": {
            "text/plain": [
              "0          This is a special book. It started slow for ab...\n",
              "1          Recommended by Don Katz. Avail for free in Dec...\n",
              "2          A fun, fast paced science fiction thriller. I ...\n",
              "3          Recommended reading to understand what is goin...\n",
              "4          I really enjoyed this book, and there is a lot...\n",
              "                                 ...                        \n",
              "1378028    Can't wait for Travis' POV \\n Travis Before Ab...\n",
              "1378029    Had this on my to-read shelf forever. Will upd...\n",
              "1378030    The last book left me wanting for more. I need...\n",
              "1378031    Things are heating up in the second novel of I...\n",
              "1378032    Before I even start this review, I must say th...\n",
              "Name: review_text, Length: 1378033, dtype: object"
            ]
          },
          "metadata": {},
          "execution_count": 11
        }
      ]
    },
    {
      "cell_type": "code",
      "source": [
        "# to lower\n",
        "def to_lower(text):\n",
        "    return text.lower()"
      ],
      "metadata": {
        "id": "NhA31jQJHZSx"
      },
      "execution_count": null,
      "outputs": []
    },
    {
      "cell_type": "code",
      "source": [
        "#remove stopwords\n",
        "import nltk\n",
        "nltk.download('stopwords')\n",
        "from nltk.corpus import stopwords\n",
        "stop = set(stopwords.words('english'))\n",
        "\n",
        "def remove_stopwords(text):\n",
        "    return ' '.join([word for word in text.split() if word not in stop])\n"
      ],
      "metadata": {
        "colab": {
          "base_uri": "https://localhost:8080/"
        },
        "id": "g7xjeqvRHetW",
        "outputId": "e5d4a542-95c8-4170-daed-07ea7a5a11fa"
      },
      "execution_count": null,
      "outputs": [
        {
          "output_type": "stream",
          "name": "stderr",
          "text": [
            "[nltk_data] Downloading package stopwords to /root/nltk_data...\n",
            "[nltk_data]   Unzipping corpora/stopwords.zip.\n"
          ]
        }
      ]
    },
    {
      "cell_type": "code",
      "source": [
        "import re\n",
        "from urllib.parse import urlparse\n",
        "\n",
        "def remove_url(text):\n",
        "    url = re.compile(r'https?://\\S+')\n",
        "    return url.sub(r'',text)\n",
        "\n",
        "print('Example:\\n' + common_df[10])"
      ],
      "metadata": {
        "colab": {
          "base_uri": "https://localhost:8080/"
        },
        "id": "KSnlIKQrHiZw",
        "outputId": "c8db9b0b-3141-4421-bb6c-60761e8dc6c3"
      },
      "execution_count": null,
      "outputs": [
        {
          "output_type": "stream",
          "name": "stdout",
          "text": [
            "Example:\n",
            "A beautiful story. Neil Gaiman is truly a unique storyteller. I did a combo of reading and listening to this story, and Neil is great at reading as well. I got interested in this book after seeing the movie, which I really enjoyed. The book is similar - maybe a bit more poetic - but I think the plot in the movie is a bit improved (not much, but a bit). \n",
            " I imagine this book came about because Neil read the below poem that he includes in the beginning, and then he invented a plot around it. The result is the book reads like a epic poem - it's creative, magical, and really, just right. \n",
            " Go and catch a falling star, \n",
            " Get with child a mandrake root, \n",
            " Tell me where all past years are, \n",
            " Or who cleft the devil's foot, \n",
            " Teach me to hear mermaids singing, \n",
            " Or to keep off envy's stinging, \n",
            " And find \n",
            " What wind \n",
            " Serves to advance an honest mind. \n",
            " If thou be'st born to strange sights, \n",
            " Things invisible to see, \n",
            " Ride ten thousand days and nights, \n",
            " Till age snow white hairs on thee, \n",
            " Thou, when thou return'st, wilt tell me, \n",
            " All strange wonders that befell thee, \n",
            " And swear, \n",
            " No where \n",
            " Lives a woman true, and fair. \n",
            " If thou find'st one, let me know, \n",
            " Such a pilgrimage were sweet; \n",
            " Yet do not, I would not go, \n",
            " Though at next door we might meet; \n",
            " Though she were true, when you met her, \n",
            " And last, till you write your letter, \n",
            " Yet she \n",
            " Will be \n",
            " False, ere I come, to two, or three. \n",
            " And here is my new favorite quote: \"Have been unavoidably detained by the world. Expect us when you see us.\"\n"
          ]
        }
      ]
    },
    {
      "cell_type": "code",
      "source": [
        "import string\n",
        "remove = string.punctuation\n",
        "\n",
        "period = '.'\n",
        "remove = remove.replace(period, '')\n",
        "\n",
        "def remove_punctuation(text):\n",
        "    pattern = re.compile(r\"[{}]\".format(re.escape(remove)))\n",
        "    \n",
        "    res = []\n",
        "    for word in text.split():\n",
        "        \n",
        "        # remove all punctiations except periods\n",
        "        new_word = pattern.sub(r' ', word)\n",
        "        new_word = new_word.strip(period)\n",
        "        \n",
        "        try:\n",
        "            float(new_word)\n",
        "        except:\n",
        "            new_word = new_word.replace(period, ' ')\n",
        "            \n",
        "        res.append(new_word)\n",
        "    \n",
        "    return ' '.join(res)"
      ],
      "metadata": {
        "id": "AdkxMaGdHr4Z"
      },
      "execution_count": null,
      "outputs": []
    },
    {
      "cell_type": "code",
      "source": [
        "def remove_quotes(text):\n",
        "    alpha = re.compile(r'\"([^\"\\\\]|\\\\.)*\"') \n",
        "    return alpha.sub(r' ', text)"
      ],
      "metadata": {
        "id": "zguRGm8mIFLA"
      },
      "execution_count": null,
      "outputs": []
    },
    {
      "cell_type": "code",
      "source": [
        "def remove_spoiler_alert(text):\n",
        "    spoiler = re.compile(r'(\\(view spoiler\\).*?\\(hide spoiler\\))') \n",
        "    return spoiler.sub(r' ', text)"
      ],
      "metadata": {
        "id": "ufovZFI4IHe9"
      },
      "execution_count": null,
      "outputs": []
    },
    {
      "cell_type": "code",
      "source": [
        "MAX_LEN = 100\n"
      ],
      "metadata": {
        "id": "ZlwFZl9dITID"
      },
      "execution_count": null,
      "outputs": []
    },
    {
      "cell_type": "code",
      "source": [
        "def process_text(text):\n",
        "    text = to_lower(text)\n",
        "    text = remove_url(text)\n",
        "    text = remove_punctuation(text)   \n",
        "    # take only first MAX_LEN words\n",
        "    text = ' '.join(text.split()[:MAX_LEN])\n",
        "    return text"
      ],
      "metadata": {
        "id": "7x2J2hYzITlG"
      },
      "execution_count": null,
      "outputs": []
    },
    {
      "cell_type": "code",
      "source": [
        "common_df = common_df.apply(process_text)\n",
        "\n",
        "# check min number of words\n",
        "common_df.apply(lambda x : len(x.split())).min()\n"
      ],
      "metadata": {
        "colab": {
          "base_uri": "https://localhost:8080/"
        },
        "id": "Vik-ItOnIWpI",
        "outputId": "5ef782ff-d583-41e7-8bc8-46175733a126"
      },
      "execution_count": null,
      "outputs": [
        {
          "output_type": "execute_result",
          "data": {
            "text/plain": [
              "1"
            ]
          },
          "metadata": {},
          "execution_count": 22
        }
      ]
    },
    {
      "cell_type": "code",
      "source": [
        "# check if train set has null values \n",
        "train = common_df.iloc[:len(train_df)].set_axis(train_df.index)\n",
        "train_df.loc[train[train == ''].index]"
      ],
      "metadata": {
        "colab": {
          "base_uri": "https://localhost:8080/",
          "height": 113
        },
        "id": "yUoUrwMwIcz_",
        "outputId": "5880f2ea-81f9-4d3b-89ec-24ddf8c2158a"
      },
      "execution_count": null,
      "outputs": [
        {
          "output_type": "execute_result",
          "data": {
            "text/plain": [
              "Empty DataFrame\n",
              "Columns: [user_id, book_id, review_id, rating, review_text, date_added, date_updated, read_at, started_at, n_votes, n_comments]\n",
              "Index: []"
            ],
            "text/html": [
              "\n",
              "  <div id=\"df-df920e88-11ad-4215-849b-bfd46211ac78\">\n",
              "    <div class=\"colab-df-container\">\n",
              "      <div>\n",
              "<style scoped>\n",
              "    .dataframe tbody tr th:only-of-type {\n",
              "        vertical-align: middle;\n",
              "    }\n",
              "\n",
              "    .dataframe tbody tr th {\n",
              "        vertical-align: top;\n",
              "    }\n",
              "\n",
              "    .dataframe thead th {\n",
              "        text-align: right;\n",
              "    }\n",
              "</style>\n",
              "<table border=\"1\" class=\"dataframe\">\n",
              "  <thead>\n",
              "    <tr style=\"text-align: right;\">\n",
              "      <th></th>\n",
              "      <th>user_id</th>\n",
              "      <th>book_id</th>\n",
              "      <th>review_id</th>\n",
              "      <th>rating</th>\n",
              "      <th>review_text</th>\n",
              "      <th>date_added</th>\n",
              "      <th>date_updated</th>\n",
              "      <th>read_at</th>\n",
              "      <th>started_at</th>\n",
              "      <th>n_votes</th>\n",
              "      <th>n_comments</th>\n",
              "    </tr>\n",
              "  </thead>\n",
              "  <tbody>\n",
              "  </tbody>\n",
              "</table>\n",
              "</div>\n",
              "      <button class=\"colab-df-convert\" onclick=\"convertToInteractive('df-df920e88-11ad-4215-849b-bfd46211ac78')\"\n",
              "              title=\"Convert this dataframe to an interactive table.\"\n",
              "              style=\"display:none;\">\n",
              "        \n",
              "  <svg xmlns=\"http://www.w3.org/2000/svg\" height=\"24px\"viewBox=\"0 0 24 24\"\n",
              "       width=\"24px\">\n",
              "    <path d=\"M0 0h24v24H0V0z\" fill=\"none\"/>\n",
              "    <path d=\"M18.56 5.44l.94 2.06.94-2.06 2.06-.94-2.06-.94-.94-2.06-.94 2.06-2.06.94zm-11 1L8.5 8.5l.94-2.06 2.06-.94-2.06-.94L8.5 2.5l-.94 2.06-2.06.94zm10 10l.94 2.06.94-2.06 2.06-.94-2.06-.94-.94-2.06-.94 2.06-2.06.94z\"/><path d=\"M17.41 7.96l-1.37-1.37c-.4-.4-.92-.59-1.43-.59-.52 0-1.04.2-1.43.59L10.3 9.45l-7.72 7.72c-.78.78-.78 2.05 0 2.83L4 21.41c.39.39.9.59 1.41.59.51 0 1.02-.2 1.41-.59l7.78-7.78 2.81-2.81c.8-.78.8-2.07 0-2.86zM5.41 20L4 18.59l7.72-7.72 1.47 1.35L5.41 20z\"/>\n",
              "  </svg>\n",
              "      </button>\n",
              "      \n",
              "  <style>\n",
              "    .colab-df-container {\n",
              "      display:flex;\n",
              "      flex-wrap:wrap;\n",
              "      gap: 12px;\n",
              "    }\n",
              "\n",
              "    .colab-df-convert {\n",
              "      background-color: #E8F0FE;\n",
              "      border: none;\n",
              "      border-radius: 50%;\n",
              "      cursor: pointer;\n",
              "      display: none;\n",
              "      fill: #1967D2;\n",
              "      height: 32px;\n",
              "      padding: 0 0 0 0;\n",
              "      width: 32px;\n",
              "    }\n",
              "\n",
              "    .colab-df-convert:hover {\n",
              "      background-color: #E2EBFA;\n",
              "      box-shadow: 0px 1px 2px rgba(60, 64, 67, 0.3), 0px 1px 3px 1px rgba(60, 64, 67, 0.15);\n",
              "      fill: #174EA6;\n",
              "    }\n",
              "\n",
              "    [theme=dark] .colab-df-convert {\n",
              "      background-color: #3B4455;\n",
              "      fill: #D2E3FC;\n",
              "    }\n",
              "\n",
              "    [theme=dark] .colab-df-convert:hover {\n",
              "      background-color: #434B5C;\n",
              "      box-shadow: 0px 1px 3px 1px rgba(0, 0, 0, 0.15);\n",
              "      filter: drop-shadow(0px 1px 2px rgba(0, 0, 0, 0.3));\n",
              "      fill: #FFFFFF;\n",
              "    }\n",
              "  </style>\n",
              "\n",
              "      <script>\n",
              "        const buttonEl =\n",
              "          document.querySelector('#df-df920e88-11ad-4215-849b-bfd46211ac78 button.colab-df-convert');\n",
              "        buttonEl.style.display =\n",
              "          google.colab.kernel.accessAllowed ? 'block' : 'none';\n",
              "\n",
              "        async function convertToInteractive(key) {\n",
              "          const element = document.querySelector('#df-df920e88-11ad-4215-849b-bfd46211ac78');\n",
              "          const dataTable =\n",
              "            await google.colab.kernel.invokeFunction('convertToInteractive',\n",
              "                                                     [key], {});\n",
              "          if (!dataTable) return;\n",
              "\n",
              "          const docLinkHtml = 'Like what you see? Visit the ' +\n",
              "            '<a target=\"_blank\" href=https://colab.research.google.com/notebooks/data_table.ipynb>data table notebook</a>'\n",
              "            + ' to learn more about interactive tables.';\n",
              "          element.innerHTML = '';\n",
              "          dataTable['output_type'] = 'display_data';\n",
              "          await google.colab.output.renderOutput(dataTable, element);\n",
              "          const docLink = document.createElement('div');\n",
              "          docLink.innerHTML = docLinkHtml;\n",
              "          element.appendChild(docLink);\n",
              "        }\n",
              "      </script>\n",
              "    </div>\n",
              "  </div>\n",
              "  "
            ]
          },
          "metadata": {},
          "execution_count": 23
        }
      ]
    },
    {
      "cell_type": "code",
      "source": [
        "# check if text set has null values \n",
        "test = common_df.iloc[-len(test_df):].set_axis(test_df.index)\n",
        "test_df.loc[test[test == ''].index]"
      ],
      "metadata": {
        "colab": {
          "base_uri": "https://localhost:8080/",
          "height": 93
        },
        "id": "hXB1ZVxyIee2",
        "outputId": "05d36cae-f8b8-4826-9295-c604e28e64e7"
      },
      "execution_count": null,
      "outputs": [
        {
          "output_type": "execute_result",
          "data": {
            "text/plain": [
              "Empty DataFrame\n",
              "Columns: [user_id, book_id, review_id, review_text, date_added, date_updated, read_at, started_at, n_votes, n_comments]\n",
              "Index: []"
            ],
            "text/html": [
              "\n",
              "  <div id=\"df-da2ef3fe-5017-4c73-8b4c-c3c296ddad2e\">\n",
              "    <div class=\"colab-df-container\">\n",
              "      <div>\n",
              "<style scoped>\n",
              "    .dataframe tbody tr th:only-of-type {\n",
              "        vertical-align: middle;\n",
              "    }\n",
              "\n",
              "    .dataframe tbody tr th {\n",
              "        vertical-align: top;\n",
              "    }\n",
              "\n",
              "    .dataframe thead th {\n",
              "        text-align: right;\n",
              "    }\n",
              "</style>\n",
              "<table border=\"1\" class=\"dataframe\">\n",
              "  <thead>\n",
              "    <tr style=\"text-align: right;\">\n",
              "      <th></th>\n",
              "      <th>user_id</th>\n",
              "      <th>book_id</th>\n",
              "      <th>review_id</th>\n",
              "      <th>review_text</th>\n",
              "      <th>date_added</th>\n",
              "      <th>date_updated</th>\n",
              "      <th>read_at</th>\n",
              "      <th>started_at</th>\n",
              "      <th>n_votes</th>\n",
              "      <th>n_comments</th>\n",
              "    </tr>\n",
              "  </thead>\n",
              "  <tbody>\n",
              "  </tbody>\n",
              "</table>\n",
              "</div>\n",
              "      <button class=\"colab-df-convert\" onclick=\"convertToInteractive('df-da2ef3fe-5017-4c73-8b4c-c3c296ddad2e')\"\n",
              "              title=\"Convert this dataframe to an interactive table.\"\n",
              "              style=\"display:none;\">\n",
              "        \n",
              "  <svg xmlns=\"http://www.w3.org/2000/svg\" height=\"24px\"viewBox=\"0 0 24 24\"\n",
              "       width=\"24px\">\n",
              "    <path d=\"M0 0h24v24H0V0z\" fill=\"none\"/>\n",
              "    <path d=\"M18.56 5.44l.94 2.06.94-2.06 2.06-.94-2.06-.94-.94-2.06-.94 2.06-2.06.94zm-11 1L8.5 8.5l.94-2.06 2.06-.94-2.06-.94L8.5 2.5l-.94 2.06-2.06.94zm10 10l.94 2.06.94-2.06 2.06-.94-2.06-.94-.94-2.06-.94 2.06-2.06.94z\"/><path d=\"M17.41 7.96l-1.37-1.37c-.4-.4-.92-.59-1.43-.59-.52 0-1.04.2-1.43.59L10.3 9.45l-7.72 7.72c-.78.78-.78 2.05 0 2.83L4 21.41c.39.39.9.59 1.41.59.51 0 1.02-.2 1.41-.59l7.78-7.78 2.81-2.81c.8-.78.8-2.07 0-2.86zM5.41 20L4 18.59l7.72-7.72 1.47 1.35L5.41 20z\"/>\n",
              "  </svg>\n",
              "      </button>\n",
              "      \n",
              "  <style>\n",
              "    .colab-df-container {\n",
              "      display:flex;\n",
              "      flex-wrap:wrap;\n",
              "      gap: 12px;\n",
              "    }\n",
              "\n",
              "    .colab-df-convert {\n",
              "      background-color: #E8F0FE;\n",
              "      border: none;\n",
              "      border-radius: 50%;\n",
              "      cursor: pointer;\n",
              "      display: none;\n",
              "      fill: #1967D2;\n",
              "      height: 32px;\n",
              "      padding: 0 0 0 0;\n",
              "      width: 32px;\n",
              "    }\n",
              "\n",
              "    .colab-df-convert:hover {\n",
              "      background-color: #E2EBFA;\n",
              "      box-shadow: 0px 1px 2px rgba(60, 64, 67, 0.3), 0px 1px 3px 1px rgba(60, 64, 67, 0.15);\n",
              "      fill: #174EA6;\n",
              "    }\n",
              "\n",
              "    [theme=dark] .colab-df-convert {\n",
              "      background-color: #3B4455;\n",
              "      fill: #D2E3FC;\n",
              "    }\n",
              "\n",
              "    [theme=dark] .colab-df-convert:hover {\n",
              "      background-color: #434B5C;\n",
              "      box-shadow: 0px 1px 3px 1px rgba(0, 0, 0, 0.15);\n",
              "      filter: drop-shadow(0px 1px 2px rgba(0, 0, 0, 0.3));\n",
              "      fill: #FFFFFF;\n",
              "    }\n",
              "  </style>\n",
              "\n",
              "      <script>\n",
              "        const buttonEl =\n",
              "          document.querySelector('#df-da2ef3fe-5017-4c73-8b4c-c3c296ddad2e button.colab-df-convert');\n",
              "        buttonEl.style.display =\n",
              "          google.colab.kernel.accessAllowed ? 'block' : 'none';\n",
              "\n",
              "        async function convertToInteractive(key) {\n",
              "          const element = document.querySelector('#df-da2ef3fe-5017-4c73-8b4c-c3c296ddad2e');\n",
              "          const dataTable =\n",
              "            await google.colab.kernel.invokeFunction('convertToInteractive',\n",
              "                                                     [key], {});\n",
              "          if (!dataTable) return;\n",
              "\n",
              "          const docLinkHtml = 'Like what you see? Visit the ' +\n",
              "            '<a target=\"_blank\" href=https://colab.research.google.com/notebooks/data_table.ipynb>data table notebook</a>'\n",
              "            + ' to learn more about interactive tables.';\n",
              "          element.innerHTML = '';\n",
              "          dataTable['output_type'] = 'display_data';\n",
              "          await google.colab.output.renderOutput(dataTable, element);\n",
              "          const docLink = document.createElement('div');\n",
              "          docLink.innerHTML = docLinkHtml;\n",
              "          element.appendChild(docLink);\n",
              "        }\n",
              "      </script>\n",
              "    </div>\n",
              "  </div>\n",
              "  "
            ]
          },
          "metadata": {},
          "execution_count": 24
        }
      ]
    },
    {
      "cell_type": "markdown",
      "source": [
        "LEMETIZATION\n"
      ],
      "metadata": {
        "id": "lHxEHYiyIpNl"
      }
    },
    {
      "cell_type": "code",
      "source": [
        "from nltk.stem import WordNetLemmatizer\n",
        "wordnet_lemmatizer = WordNetLemmatizer()\n",
        "\n",
        "def lemmatization(text):\n",
        "    return ' '.join(wordnet_lemmatizer.lemmatize(word) for word in text.split()) # all words are considered as noun"
      ],
      "metadata": {
        "id": "zqYuHFe9IrRv"
      },
      "execution_count": null,
      "outputs": []
    },
    {
      "cell_type": "code",
      "source": [
        "import nltk\n",
        "nltk.download('wordnet')\n",
        "common_df = common_df.apply(lemmatization)\n"
      ],
      "metadata": {
        "colab": {
          "base_uri": "https://localhost:8080/"
        },
        "id": "ZNY7pLikIt4K",
        "outputId": "5e540eea-a20d-451b-965d-f8af5be96575"
      },
      "execution_count": null,
      "outputs": [
        {
          "output_type": "stream",
          "name": "stderr",
          "text": [
            "[nltk_data] Downloading package wordnet to /root/nltk_data...\n"
          ]
        }
      ]
    },
    {
      "cell_type": "code",
      "source": [
        "common_df[3]\n"
      ],
      "metadata": {
        "colab": {
          "base_uri": "https://localhost:8080/",
          "height": 52
        },
        "id": "riWYaekhIuXN",
        "outputId": "57d62e6a-2124-4fc0-9c50-be4395ccf10d"
      },
      "execution_count": null,
      "outputs": [
        {
          "output_type": "execute_result",
          "data": {
            "text/plain": [
              "'recommended reading to understand what is going on in middle america and possibly better explain why trump won'"
            ],
            "application/vnd.google.colaboratory.intrinsic+json": {
              "type": "string"
            }
          },
          "metadata": {},
          "execution_count": 27
        }
      ]
    },
    {
      "cell_type": "code",
      "source": [
        "import tensorflow as tf\n",
        "from tensorflow.keras.utils import to_categorical\n",
        "\n",
        "y = to_categorical(train_df['rating'])\n",
        "y.shape\n"
      ],
      "metadata": {
        "colab": {
          "base_uri": "https://localhost:8080/"
        },
        "id": "88fvNCofJJoM",
        "outputId": "cf778cb4-f537-4256-e998-137a733da71b"
      },
      "execution_count": null,
      "outputs": [
        {
          "output_type": "execute_result",
          "data": {
            "text/plain": [
              "(900000, 6)"
            ]
          },
          "metadata": {},
          "execution_count": 28
        }
      ]
    },
    {
      "cell_type": "code",
      "source": [
        "train_df['rating'].unique()"
      ],
      "metadata": {
        "colab": {
          "base_uri": "https://localhost:8080/"
        },
        "id": "8zDFcNSwJLzL",
        "outputId": "82b12f4a-9552-4051-f1ee-c932626e1b55"
      },
      "execution_count": null,
      "outputs": [
        {
          "output_type": "execute_result",
          "data": {
            "text/plain": [
              "array([5, 3, 0, 4, 2, 1])"
            ]
          },
          "metadata": {},
          "execution_count": 29
        }
      ]
    },
    {
      "cell_type": "markdown",
      "source": [
        "SPLIT DATASET INTO TRAIN AND TEST"
      ],
      "metadata": {
        "id": "-B8ww8rYJPV-"
      }
    },
    {
      "cell_type": "code",
      "source": [
        "X = common_df.iloc[:y.shape[0]]\n",
        "X_test = common_df.iloc[y.shape[0]:]\n"
      ],
      "metadata": {
        "id": "Me0wfFSxJSWb"
      },
      "execution_count": null,
      "outputs": []
    },
    {
      "cell_type": "code",
      "source": [
        "from sklearn.model_selection import train_test_split\n",
        "\n",
        "X_train, X_val, y_train, y_val = train_test_split(X, y, test_size = 0.15, random_state = 42)\n"
      ],
      "metadata": {
        "id": "Bsa1q23ZJU0Y"
      },
      "execution_count": null,
      "outputs": []
    },
    {
      "cell_type": "code",
      "source": [
        "X_train.head()"
      ],
      "metadata": {
        "colab": {
          "base_uri": "https://localhost:8080/"
        },
        "id": "jGYbzw5_MCy_",
        "outputId": "66f9c50d-e2e1-474f-f402-c807c18a9830"
      },
      "execution_count": null,
      "outputs": [
        {
          "output_type": "execute_result",
          "data": {
            "text/plain": [
              "839450    i wa laughing so hard because of opal the poor...\n",
              "780957    oh bridget enjoyable but not really the same w...\n",
              "26196     you know life is good when you re in serious s...\n",
              "52648     not bad not bad although with some minor setba...\n",
              "881175    wow that s really all i can manage to say righ...\n",
              "Name: review_text, dtype: object"
            ]
          },
          "metadata": {},
          "execution_count": 32
        }
      ]
    },
    {
      "cell_type": "code",
      "source": [
        "y_train[:5]"
      ],
      "metadata": {
        "colab": {
          "base_uri": "https://localhost:8080/"
        },
        "id": "LnuYGJmAMLH4",
        "outputId": "9ef5ebed-ab32-44c0-d9bb-b71af22f6d94"
      },
      "execution_count": null,
      "outputs": [
        {
          "output_type": "execute_result",
          "data": {
            "text/plain": [
              "array([[0., 0., 0., 1., 0., 0.],\n",
              "       [0., 0., 0., 1., 0., 0.],\n",
              "       [0., 0., 0., 0., 0., 1.],\n",
              "       [0., 0., 0., 0., 1., 0.],\n",
              "       [0., 0., 0., 0., 0., 1.]], dtype=float32)"
            ]
          },
          "metadata": {},
          "execution_count": 33
        }
      ]
    },
    {
      "cell_type": "markdown",
      "source": [
        "LSTM\n"
      ],
      "metadata": {
        "id": "rdUbetYziIJn"
      }
    },
    {
      "cell_type": "code",
      "source": [
        "#tokensization\n",
        "from tensorflow.keras.preprocessing.text import Tokenizer\n",
        "from tensorflow.keras.preprocessing.sequence import pad_sequences"
      ],
      "metadata": {
        "id": "n9-ukAzOMU32"
      },
      "execution_count": null,
      "outputs": []
    },
    {
      "cell_type": "code",
      "source": [
        "tokenizer = Tokenizer()\n",
        "tokenizer.fit_on_texts(X_train) # fit tokenizer only on train data\n",
        "\n",
        "vocab_size = len(tokenizer.word_index)\n",
        "vocab_size"
      ],
      "metadata": {
        "colab": {
          "base_uri": "https://localhost:8080/"
        },
        "id": "nE_-GeliNA6R",
        "outputId": "0e01d602-4c8c-47eb-f01b-aad792e6dc59"
      },
      "execution_count": null,
      "outputs": [
        {
          "output_type": "execute_result",
          "data": {
            "text/plain": [
              "154595"
            ]
          },
          "metadata": {},
          "execution_count": 35
        }
      ]
    },
    {
      "cell_type": "code",
      "source": [
        "train_sequence = tokenizer.texts_to_sequences(X_train)\n",
        "train_sequence = pad_sequences(train_sequence, maxlen = MAX_LEN, padding = 'post')\n",
        "\n",
        "val_sequence = tokenizer.texts_to_sequences(X_val)\n",
        "val_sequence = pad_sequences(val_sequence, maxlen = MAX_LEN, padding = 'post')\n",
        "\n",
        "test_sequence = tokenizer.texts_to_sequences(X_test)\n",
        "test_sequence = pad_sequences(test_sequence, maxlen = MAX_LEN, padding = 'post')"
      ],
      "metadata": {
        "id": "kjuMzVdoNEJE"
      },
      "execution_count": null,
      "outputs": []
    },
    {
      "cell_type": "code",
      "source": [
        "from tensorflow.keras import Sequential\n",
        "from tensorflow.keras.layers import Dense, SpatialDropout1D, LSTM, Embedding"
      ],
      "metadata": {
        "id": "hvlEXHW1NKhf"
      },
      "execution_count": null,
      "outputs": []
    },
    {
      "cell_type": "code",
      "source": [
        "from tensorflow.keras.callbacks import EarlyStopping, ReduceLROnPlateau"
      ],
      "metadata": {
        "id": "aSxr_KMJPOOH"
      },
      "execution_count": null,
      "outputs": []
    },
    {
      "cell_type": "code",
      "source": [
        "early_stop = EarlyStopping(patience = 4, restore_best_weights = True, verbose = 1) # val_loss\n",
        "reduce_lr = ReduceLROnPlateau(factor = 0.1, patience = 2, mode = 'min', verbose = 1) # val_loss"
      ],
      "metadata": {
        "id": "C17iMBiKRwCj"
      },
      "execution_count": null,
      "outputs": []
    },
    {
      "cell_type": "code",
      "source": [
        "model=Sequential()\n",
        "model.add(Embedding(vocab_size + 1, 50, input_length = MAX_LEN))\n",
        "model.add(SpatialDropout1D(0.2))\n",
        "model.add(LSTM(100,dropout=0.2,recurrent_dropout=0.2))\n",
        "model.add(Dense(6,activation='softmax'))\n",
        "model.compile(loss='categorical_crossentropy',optimizer='adam',metrics=['accuracy'])\n",
        "model.summary()"
      ],
      "metadata": {
        "colab": {
          "base_uri": "https://localhost:8080/"
        },
        "id": "FSSwMeq7ODIu",
        "outputId": "45cad616-1c6a-4865-a7a0-a753ab470e00"
      },
      "execution_count": null,
      "outputs": [
        {
          "output_type": "stream",
          "name": "stdout",
          "text": [
            "Model: \"sequential\"\n",
            "_________________________________________________________________\n",
            " Layer (type)                Output Shape              Param #   \n",
            "=================================================================\n",
            " embedding (Embedding)       (None, 100, 50)           7729800   \n",
            "                                                                 \n",
            " spatial_dropout1d (SpatialD  (None, 100, 50)          0         \n",
            " ropout1D)                                                       \n",
            "                                                                 \n",
            " lstm (LSTM)                 (None, 100)               60400     \n",
            "                                                                 \n",
            " dense (Dense)               (None, 6)                 606       \n",
            "                                                                 \n",
            "=================================================================\n",
            "Total params: 7,790,806\n",
            "Trainable params: 7,790,806\n",
            "Non-trainable params: 0\n",
            "_________________________________________________________________\n"
          ]
        }
      ]
    },
    {
      "cell_type": "code",
      "source": [
        "# fit the model\n",
        "history = model.fit(train_sequence, \n",
        "                    y_train, \n",
        "                    batch_size = 64,\n",
        "                    epochs = 2,\n",
        "                    verbose = 1,\n",
        "                    validation_data = (val_sequence, y_val),\n",
        "                    callbacks = [reduce_lr, early_stop])"
      ],
      "metadata": {
        "colab": {
          "base_uri": "https://localhost:8080/"
        },
        "id": "O2OZJJkiR-HQ",
        "outputId": "d1261867-72f2-4232-bc95-6664100a8d15"
      },
      "execution_count": null,
      "outputs": [
        {
          "output_type": "stream",
          "name": "stdout",
          "text": [
            "Epoch 1/2\n",
            "11954/11954 [==============================] - 2956s 247ms/step - loss: 1.2479 - accuracy: 0.4607 - val_loss: 1.0815 - val_accuracy: 0.5369 - lr: 0.0010\n",
            "Epoch 2/2\n",
            "11954/11954 [==============================] - 2996s 251ms/step - loss: 1.0523 - accuracy: 0.5519 - val_loss: 1.0363 - val_accuracy: 0.5587 - lr: 0.0010\n"
          ]
        }
      ]
    },
    {
      "cell_type": "code",
      "source": [
        "loss = history.history['loss']\n",
        "acc = history.history['accuracy']\n",
        "val_loss = history.history['val_loss']\n",
        "val_acc = history.history['val_accuracy']\n",
        "\n",
        "epochs = range(1, len(loss) + 1)\n",
        "\n",
        "plt.figure(figsize=(16, 5))\n",
        "#accuracy\n",
        "plt.subplot(1,2,1)\n",
        "plt.plot(epochs, acc, 'bo', label = 'Training accuracy')\n",
        "plt.plot(epochs, val_acc, 'r', label = 'Validation accuracy')\n",
        "plt.legend()\n",
        "\n",
        "#loss\n",
        "plt.subplot(1,2,2)\n",
        "plt.plot(epochs, loss, 'bo', label = 'Trainig loss')\n",
        "plt.plot(epochs, val_loss, 'r', label = 'Validation loss')\n",
        "plt.legend()\n",
        "\n",
        "plt.show()"
      ],
      "metadata": {
        "id": "_FQryqG91h2D",
        "colab": {
          "base_uri": "https://localhost:8080/",
          "height": 295
        },
        "outputId": "5e96136c-c5fb-49c9-e2aa-b3e2ad6de857"
      },
      "execution_count": null,
      "outputs": [
        {
          "output_type": "display_data",
          "data": {
            "text/plain": [
              "<Figure size 1152x360 with 2 Axes>"
            ],
            "image/png": "[encoded data removed]"
          },
          "metadata": {
            "needs_background": "light"
          }
        }
      ]
    },
    {
      "cell_type": "code",
      "source": [
        "sub = pd.DataFrame()\n",
        "sub['review_id'] = test_df.review_id\n",
        "sub['rating'] = [np.argmax(i) for i in model.predict(test_sequence)]\n",
        "sub.head()"
      ],
      "metadata": {
        "id": "Y05fp8qv1ur5",
        "colab": {
          "base_uri": "https://localhost:8080/",
          "height": 223
        },
        "outputId": "fea7d071-b060-4a97-d81e-3eb02077e243"
      },
      "execution_count": null,
      "outputs": [
        {
          "output_type": "stream",
          "name": "stdout",
          "text": [
            "14939/14939 [==============================] - 374s 25ms/step\n"
          ]
        },
        {
          "output_type": "execute_result",
          "data": {
            "text/plain": [
              "                          review_id  rating\n",
              "0  5c4df7e70e9b438c761f07a4620ccb7c       5\n",
              "1  8eaeaf13213eeb16ad879a2a2591bbe5       4\n",
              "2  dce649b733c153ba5363a0413cac988f       4\n",
              "3  8a46df0bb997269d6834f9437a4b0a77       4\n",
              "4  d11d3091e22f1cf3cb865598de197599       3"
            ],
            "text/html": [
              "\n",
              "  <div id=\"df-76dd3572-7cdc-4c1a-b18e-f584f68607a0\">\n",
              "    <div class=\"colab-df-container\">\n",
              "      <div>\n",
              "<style scoped>\n",
              "    .dataframe tbody tr th:only-of-type {\n",
              "        vertical-align: middle;\n",
              "    }\n",
              "\n",
              "    .dataframe tbody tr th {\n",
              "        vertical-align: top;\n",
              "    }\n",
              "\n",
              "    .dataframe thead th {\n",
              "        text-align: right;\n",
              "    }\n",
              "</style>\n",
              "<table border=\"1\" class=\"dataframe\">\n",
              "  <thead>\n",
              "    <tr style=\"text-align: right;\">\n",
              "      <th></th>\n",
              "      <th>review_id</th>\n",
              "      <th>rating</th>\n",
              "    </tr>\n",
              "  </thead>\n",
              "  <tbody>\n",
              "    <tr>\n",
              "      <th>0</th>\n",
              "      <td>5c4df7e70e9b438c761f07a4620ccb7c</td>\n",
              "      <td>5</td>\n",
              "    </tr>\n",
              "    <tr>\n",
              "      <th>1</th>\n",
              "      <td>8eaeaf13213eeb16ad879a2a2591bbe5</td>\n",
              "      <td>4</td>\n",
              "    </tr>\n",
              "    <tr>\n",
              "      <th>2</th>\n",
              "      <td>dce649b733c153ba5363a0413cac988f</td>\n",
              "      <td>4</td>\n",
              "    </tr>\n",
              "    <tr>\n",
              "      <th>3</th>\n",
              "      <td>8a46df0bb997269d6834f9437a4b0a77</td>\n",
              "      <td>4</td>\n",
              "    </tr>\n",
              "    <tr>\n",
              "      <th>4</th>\n",
              "      <td>d11d3091e22f1cf3cb865598de197599</td>\n",
              "      <td>3</td>\n",
              "    </tr>\n",
              "  </tbody>\n",
              "</table>\n",
              "</div>\n",
              "      <button class=\"colab-df-convert\" onclick=\"convertToInteractive('df-76dd3572-7cdc-4c1a-b18e-f584f68607a0')\"\n",
              "              title=\"Convert this dataframe to an interactive table.\"\n",
              "              style=\"display:none;\">\n",
              "        \n",
              "  <svg xmlns=\"http://www.w3.org/2000/svg\" height=\"24px\"viewBox=\"0 0 24 24\"\n",
              "       width=\"24px\">\n",
              "    <path d=\"M0 0h24v24H0V0z\" fill=\"none\"/>\n",
              "    <path d=\"M18.56 5.44l.94 2.06.94-2.06 2.06-.94-2.06-.94-.94-2.06-.94 2.06-2.06.94zm-11 1L8.5 8.5l.94-2.06 2.06-.94-2.06-.94L8.5 2.5l-.94 2.06-2.06.94zm10 10l.94 2.06.94-2.06 2.06-.94-2.06-.94-.94-2.06-.94 2.06-2.06.94z\"/><path d=\"M17.41 7.96l-1.37-1.37c-.4-.4-.92-.59-1.43-.59-.52 0-1.04.2-1.43.59L10.3 9.45l-7.72 7.72c-.78.78-.78 2.05 0 2.83L4 21.41c.39.39.9.59 1.41.59.51 0 1.02-.2 1.41-.59l7.78-7.78 2.81-2.81c.8-.78.8-2.07 0-2.86zM5.41 20L4 18.59l7.72-7.72 1.47 1.35L5.41 20z\"/>\n",
              "  </svg>\n",
              "      </button>\n",
              "      \n",
              "  <style>\n",
              "    .colab-df-container {\n",
              "      display:flex;\n",
              "      flex-wrap:wrap;\n",
              "      gap: 12px;\n",
              "    }\n",
              "\n",
              "    .colab-df-convert {\n",
              "      background-color: #E8F0FE;\n",
              "      border: none;\n",
              "      border-radius: 50%;\n",
              "      cursor: pointer;\n",
              "      display: none;\n",
              "      fill: #1967D2;\n",
              "      height: 32px;\n",
              "      padding: 0 0 0 0;\n",
              "      width: 32px;\n",
              "    }\n",
              "\n",
              "    .colab-df-convert:hover {\n",
              "      background-color: #E2EBFA;\n",
              "      box-shadow: 0px 1px 2px rgba(60, 64, 67, 0.3), 0px 1px 3px 1px rgba(60, 64, 67, 0.15);\n",
              "      fill: #174EA6;\n",
              "    }\n",
              "\n",
              "    [theme=dark] .colab-df-convert {\n",
              "      background-color: #3B4455;\n",
              "      fill: #D2E3FC;\n",
              "    }\n",
              "\n",
              "    [theme=dark] .colab-df-convert:hover {\n",
              "      background-color: #434B5C;\n",
              "      box-shadow: 0px 1px 3px 1px rgba(0, 0, 0, 0.15);\n",
              "      filter: drop-shadow(0px 1px 2px rgba(0, 0, 0, 0.3));\n",
              "      fill: #FFFFFF;\n",
              "    }\n",
              "  </style>\n",
              "\n",
              "      <script>\n",
              "        const buttonEl =\n",
              "          document.querySelector('#df-76dd3572-7cdc-4c1a-b18e-f584f68607a0 button.colab-df-convert');\n",
              "        buttonEl.style.display =\n",
              "          google.colab.kernel.accessAllowed ? 'block' : 'none';\n",
              "\n",
              "        async function convertToInteractive(key) {\n",
              "          const element = document.querySelector('#df-76dd3572-7cdc-4c1a-b18e-f584f68607a0');\n",
              "          const dataTable =\n",
              "            await google.colab.kernel.invokeFunction('convertToInteractive',\n",
              "                                                     [key], {});\n",
              "          if (!dataTable) return;\n",
              "\n",
              "          const docLinkHtml = 'Like what you see? Visit the ' +\n",
              "            '<a target=\"_blank\" href=https://colab.research.google.com/notebooks/data_table.ipynb>data table notebook</a>'\n",
              "            + ' to learn more about interactive tables.';\n",
              "          element.innerHTML = '';\n",
              "          dataTable['output_type'] = 'display_data';\n",
              "          await google.colab.output.renderOutput(dataTable, element);\n",
              "          const docLink = document.createElement('div');\n",
              "          docLink.innerHTML = docLinkHtml;\n",
              "          element.appendChild(docLink);\n",
              "        }\n",
              "      </script>\n",
              "    </div>\n",
              "  </div>\n",
              "  "
            ]
          },
          "metadata": {},
          "execution_count": 43
        }
      ]
    },
    {
      "cell_type": "code",
      "source": [
        "sub.to_csv('goodreads_submission.csv', header=True, index=False)"
      ],
      "metadata": {
        "id": "TvbqkvoZcUro"
      },
      "execution_count": null,
      "outputs": []
    }
  ]
}