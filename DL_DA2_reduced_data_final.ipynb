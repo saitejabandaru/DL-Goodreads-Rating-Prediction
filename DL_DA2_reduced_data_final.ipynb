{
  "nbformat": 4,
  "nbformat_minor": 0,
  "metadata": {
    "colab": {
      "provenance": []
    },
    "kernelspec": {
      "name": "python3",
      "display_name": "Python 3"
    },
    "language_info": {
      "name": "python"
    },
    "gpuClass": "standard"
  },
  "cells": [
    {
      "cell_type": "code",
      "execution_count": 1,
      "metadata": {
        "colab": {
          "base_uri": "https://localhost:8080/"
        },
        "id": "ynPOGQMB8aYw",
        "outputId": "38961792-3ccb-421a-b4a1-4376c4fbb289"
      },
      "outputs": [
        {
          "output_type": "stream",
          "name": "stdout",
          "text": [
            "Looking in indexes: https://pypi.org/simple, https://us-python.pkg.dev/colab-wheels/public/simple/\n",
            "Requirement already satisfied: kaggle in /usr/local/lib/python3.9/dist-packages (1.5.13)\n",
            "Requirement already satisfied: urllib3 in /usr/local/lib/python3.9/dist-packages (from kaggle) (1.26.15)\n",
            "Requirement already satisfied: python-slugify in /usr/local/lib/python3.9/dist-packages (from kaggle) (8.0.1)\n",
            "Requirement already satisfied: tqdm in /usr/local/lib/python3.9/dist-packages (from kaggle) (4.65.0)\n",
            "Requirement already satisfied: six>=1.10 in /usr/local/lib/python3.9/dist-packages (from kaggle) (1.16.0)\n",
            "Requirement already satisfied: python-dateutil in /usr/local/lib/python3.9/dist-packages (from kaggle) (2.8.2)\n",
            "Requirement already satisfied: requests in /usr/local/lib/python3.9/dist-packages (from kaggle) (2.27.1)\n",
            "Requirement already satisfied: certifi in /usr/local/lib/python3.9/dist-packages (from kaggle) (2022.12.7)\n",
            "Requirement already satisfied: text-unidecode>=1.3 in /usr/local/lib/python3.9/dist-packages (from python-slugify->kaggle) (1.3)\n",
            "Requirement already satisfied: charset-normalizer~=2.0.0 in /usr/local/lib/python3.9/dist-packages (from requests->kaggle) (2.0.12)\n",
            "Requirement already satisfied: idna<4,>=2.5 in /usr/local/lib/python3.9/dist-packages (from requests->kaggle) (3.4)\n"
          ]
        }
      ],
      "source": [
        "! pip install kaggle"
      ]
    },
    {
      "cell_type": "code",
      "source": [
        "pip install opendatasets"
      ],
      "metadata": {
        "colab": {
          "base_uri": "https://localhost:8080/"
        },
        "id": "Jahfh8NG8uKR",
        "outputId": "0480aa17-15e0-419a-977f-02f3c7877c5a"
      },
      "execution_count": 2,
      "outputs": [
        {
          "output_type": "stream",
          "name": "stdout",
          "text": [
            "Looking in indexes: https://pypi.org/simple, https://us-python.pkg.dev/colab-wheels/public/simple/\n",
            "Collecting opendatasets\n",
            "  Downloading opendatasets-0.1.22-py3-none-any.whl (15 kB)\n",
            "Requirement already satisfied: click in /usr/local/lib/python3.9/dist-packages (from opendatasets) (8.1.3)\n",
            "Requirement already satisfied: kaggle in /usr/local/lib/python3.9/dist-packages (from opendatasets) (1.5.13)\n",
            "Requirement already satisfied: tqdm in /usr/local/lib/python3.9/dist-packages (from opendatasets) (4.65.0)\n",
            "Requirement already satisfied: python-slugify in /usr/local/lib/python3.9/dist-packages (from kaggle->opendatasets) (8.0.1)\n",
            "Requirement already satisfied: urllib3 in /usr/local/lib/python3.9/dist-packages (from kaggle->opendatasets) (1.26.15)\n",
            "Requirement already satisfied: requests in /usr/local/lib/python3.9/dist-packages (from kaggle->opendatasets) (2.27.1)\n",
            "Requirement already satisfied: python-dateutil in /usr/local/lib/python3.9/dist-packages (from kaggle->opendatasets) (2.8.2)\n",
            "Requirement already satisfied: six>=1.10 in /usr/local/lib/python3.9/dist-packages (from kaggle->opendatasets) (1.16.0)\n",
            "Requirement already satisfied: certifi in /usr/local/lib/python3.9/dist-packages (from kaggle->opendatasets) (2022.12.7)\n",
            "Requirement already satisfied: text-unidecode>=1.3 in /usr/local/lib/python3.9/dist-packages (from python-slugify->kaggle->opendatasets) (1.3)\n",
            "Requirement already satisfied: charset-normalizer~=2.0.0 in /usr/local/lib/python3.9/dist-packages (from requests->kaggle->opendatasets) (2.0.12)\n",
            "Requirement already satisfied: idna<4,>=2.5 in /usr/local/lib/python3.9/dist-packages (from requests->kaggle->opendatasets) (3.4)\n",
            "Installing collected packages: opendatasets\n",
            "Successfully installed opendatasets-0.1.22\n"
          ]
        }
      ]
    },
    {
      "cell_type": "code",
      "source": [
        "\\import opendatasets as od\n",
        "od.download(\"https://www.kaggle.com/competitions/goodreads-books-reviews-290312/data\")\n"
      ],
      "metadata": {
        "colab": {
          "base_uri": "https://localhost:8080/"
        },
        "id": "R-o6DnTO8xsv",
        "outputId": "76c36906-bfc7-4bd0-a445-14e2956ce5cc"
      },
      "execution_count": 3,
      "outputs": [
        {
          "output_type": "stream",
          "name": "stdout",
          "text": [
            "Please provide your Kaggle credentials to download this dataset. Learn more: http://bit.ly/kaggle-creds\n",
            "Your Kaggle username: saitejabandaru\n",
            "Your Kaggle Key: ··········\n",
            "Downloading goodreads-books-reviews-290312.zip to ./goodreads-books-reviews-290312\n"
          ]
        },
        {
          "output_type": "stream",
          "name": "stderr",
          "text": [
            "100%|██████████| 635M/635M [00:07<00:00, 94.8MB/s]\n"
          ]
        },
        {
          "output_type": "stream",
          "name": "stdout",
          "text": [
            "\n",
            "Extracting archive ./goodreads-books-reviews-290312/goodreads-books-reviews-290312.zip to ./goodreads-books-reviews-290312\n"
          ]
        }
      ]
    },
    {
      "cell_type": "code",
      "source": [
        "import numpy as np\n",
        "import pandas as pd"
      ],
      "metadata": {
        "id": "1nHkne0y81Jz"
      },
      "execution_count": 4,
      "outputs": []
    },
    {
      "cell_type": "code",
      "source": [
        "import csv\n",
        "import re \n",
        "import string\n",
        "from sklearn.model_selection import train_test_split\n",
        "from sklearn.feature_extraction.text import CountVectorizer\n",
        "from sklearn.feature_extraction.text import TfidfVectorizer"
      ],
      "metadata": {
        "id": "bDblh2NVCGBD"
      },
      "execution_count": 5,
      "outputs": []
    },
    {
      "cell_type": "code",
      "source": [
        "train_df = pd.read_csv(\"/content/goodreads-books-reviews-290312/goodreads_train.csv\")\n",
        "test_df = pd.read_csv(\"/content/goodreads-books-reviews-290312/goodreads_test.csv\")"
      ],
      "metadata": {
        "id": "R9iW7tmMCIfN"
      },
      "execution_count": 6,
      "outputs": []
    },
    {
      "cell_type": "code",
      "source": [
        "print(len(train_df))\n",
        "\n",
        "print(len(test_df))\n",
        "train_df"
      ],
      "metadata": {
        "colab": {
          "base_uri": "https://localhost:8080/",
          "height": 866
        },
        "id": "n_rCqOzTDPL-",
        "outputId": "073e17fc-2198-4a17-d67b-54ae327af2ba"
      },
      "execution_count": 7,
      "outputs": [
        {
          "output_type": "stream",
          "name": "stdout",
          "text": [
            "900000\n",
            "478033\n"
          ]
        },
        {
          "output_type": "execute_result",
          "data": {
            "text/plain": [
              "                                 user_id   book_id  \\\n",
              "0       8842281e1d1347389f2ab93d60773d4d  18245960   \n",
              "1       8842281e1d1347389f2ab93d60773d4d     16981   \n",
              "2       8842281e1d1347389f2ab93d60773d4d  28684704   \n",
              "3       8842281e1d1347389f2ab93d60773d4d  27161156   \n",
              "4       8842281e1d1347389f2ab93d60773d4d  25884323   \n",
              "...                                  ...       ...   \n",
              "899995  b9450d1c1f97f891c392b1105959b56e  11832081   \n",
              "899996  b9450d1c1f97f891c392b1105959b56e  16095092   \n",
              "899997  b9450d1c1f97f891c392b1105959b56e   8430896   \n",
              "899998  b9450d1c1f97f891c392b1105959b56e  12275680   \n",
              "899999  b9450d1c1f97f891c392b1105959b56e     17005   \n",
              "\n",
              "                               review_id  rating  \\\n",
              "0       dfdbb7b0eb5a7e4c26d59a937e2e5feb       5   \n",
              "1       a5d2c3628987712d0e05c4f90798eb67       3   \n",
              "2       2ede853b14dc4583f96cf5d120af636f       3   \n",
              "3       ced5675e55cd9d38a524743f5c40996e       0   \n",
              "4       332732725863131279a8e345b63ac33e       4   \n",
              "...                                  ...     ...   \n",
              "899995  7c34c15ad8cb28a4afca32946e2016ea       3   \n",
              "899996  e979c735276431915d089cfaf446d64f       3   \n",
              "899997  feb9fe6439f9fbba8a1cce36020ad977       4   \n",
              "899998  741e29369f70531bfffbd02add86f228       4   \n",
              "899999  d55f3a967230940e75a314700caec9a5       3   \n",
              "\n",
              "                                              review_text  \\\n",
              "0       This is a special book. It started slow for ab...   \n",
              "1       Recommended by Don Katz. Avail for free in Dec...   \n",
              "2       A fun, fast paced science fiction thriller. I ...   \n",
              "3       Recommended reading to understand what is goin...   \n",
              "4       I really enjoyed this book, and there is a lot...   \n",
              "...                                                   ...   \n",
              "899995  3.5 stars. \\n Jenna is a popular YA author and...   \n",
              "899996  This was a quick read for me. I have read a lo...   \n",
              "899997  ** spoiler alert ** \\n 3.5 stars. \\n This book...   \n",
              "899998  ** spoiler alert ** \\n Another fun read from M...   \n",
              "899999  ** spoiler alert ** \\n 3.5 stars \\n I liked it...   \n",
              "\n",
              "                            date_added                    date_updated  \\\n",
              "0       Sun Jul 30 07:44:10 -0700 2017  Wed Aug 30 00:00:26 -0700 2017   \n",
              "1       Mon Dec 05 10:46:44 -0800 2016  Wed Mar 22 11:37:04 -0700 2017   \n",
              "2       Tue Nov 15 11:29:22 -0800 2016  Mon Mar 20 23:40:27 -0700 2017   \n",
              "3       Wed Nov 09 17:37:04 -0800 2016  Wed Nov 09 17:38:20 -0800 2016   \n",
              "4       Mon Apr 25 09:31:23 -0700 2016  Mon Apr 25 09:31:23 -0700 2016   \n",
              "...                                ...                             ...   \n",
              "899995  Fri Nov 16 22:10:17 -0800 2012  Sat Nov 17 22:42:44 -0800 2012   \n",
              "899996  Fri Nov 16 22:09:49 -0800 2012  Sat Nov 17 23:38:58 -0800 2012   \n",
              "899997  Tue Nov 13 05:38:24 -0800 2012  Tue Nov 13 23:29:17 -0800 2012   \n",
              "899998  Mon Nov 12 05:42:30 -0800 2012  Tue Nov 13 22:32:05 -0800 2012   \n",
              "899999  Sun Nov 11 00:05:43 -0800 2012  Sun Nov 11 21:59:08 -0800 2012   \n",
              "\n",
              "                               read_at                      started_at  \\\n",
              "0       Sat Aug 26 12:05:52 -0700 2017  Tue Aug 15 13:23:18 -0700 2017   \n",
              "1                                  NaN                             NaN   \n",
              "2       Sat Mar 18 23:22:42 -0700 2017  Fri Mar 17 23:45:40 -0700 2017   \n",
              "3                                  NaN                             NaN   \n",
              "4       Sun Jun 26 00:00:00 -0700 2016  Sat May 28 00:00:00 -0700 2016   \n",
              "...                                ...                             ...   \n",
              "899995  Sat Nov 17 00:00:00 -0800 2012  Fri Nov 16 00:00:00 -0800 2012   \n",
              "899996  Sat Nov 17 00:00:00 -0800 2012  Fri Nov 16 00:00:00 -0800 2012   \n",
              "899997  Tue Nov 13 00:00:00 -0800 2012  Tue Nov 13 00:00:00 -0800 2012   \n",
              "899998  Tue Nov 13 00:00:00 -0800 2012  Mon Nov 12 00:00:00 -0800 2012   \n",
              "899999  Sun Nov 11 00:00:00 -0800 2012  Sun Nov 11 00:00:00 -0800 2012   \n",
              "\n",
              "        n_votes  n_comments  \n",
              "0            28           1  \n",
              "1             1           0  \n",
              "2            22           0  \n",
              "3             5           1  \n",
              "4             9           1  \n",
              "...         ...         ...  \n",
              "899995        0           0  \n",
              "899996        1           1  \n",
              "899997        1           0  \n",
              "899998        0           0  \n",
              "899999        0           0  \n",
              "\n",
              "[900000 rows x 11 columns]"
            ],
            "text/html": [
              "\n",
              "  <div id=\"df-afb75a3f-b4d0-49fe-8df3-68eddab7ece1\">\n",
              "    <div class=\"colab-df-container\">\n",
              "      <div>\n",
              "<style scoped>\n",
              "    .dataframe tbody tr th:only-of-type {\n",
              "        vertical-align: middle;\n",
              "    }\n",
              "\n",
              "    .dataframe tbody tr th {\n",
              "        vertical-align: top;\n",
              "    }\n",
              "\n",
              "    .dataframe thead th {\n",
              "        text-align: right;\n",
              "    }\n",
              "</style>\n",
              "<table border=\"1\" class=\"dataframe\">\n",
              "  <thead>\n",
              "    <tr style=\"text-align: right;\">\n",
              "      <th></th>\n",
              "      <th>user_id</th>\n",
              "      <th>book_id</th>\n",
              "      <th>review_id</th>\n",
              "      <th>rating</th>\n",
              "      <th>review_text</th>\n",
              "      <th>date_added</th>\n",
              "      <th>date_updated</th>\n",
              "      <th>read_at</th>\n",
              "      <th>started_at</th>\n",
              "      <th>n_votes</th>\n",
              "      <th>n_comments</th>\n",
              "    </tr>\n",
              "  </thead>\n",
              "  <tbody>\n",
              "    <tr>\n",
              "      <th>0</th>\n",
              "      <td>8842281e1d1347389f2ab93d60773d4d</td>\n",
              "      <td>18245960</td>\n",
              "      <td>dfdbb7b0eb5a7e4c26d59a937e2e5feb</td>\n",
              "      <td>5</td>\n",
              "      <td>This is a special book. It started slow for ab...</td>\n",
              "      <td>Sun Jul 30 07:44:10 -0700 2017</td>\n",
              "      <td>Wed Aug 30 00:00:26 -0700 2017</td>\n",
              "      <td>Sat Aug 26 12:05:52 -0700 2017</td>\n",
              "      <td>Tue Aug 15 13:23:18 -0700 2017</td>\n",
              "      <td>28</td>\n",
              "      <td>1</td>\n",
              "    </tr>\n",
              "    <tr>\n",
              "      <th>1</th>\n",
              "      <td>8842281e1d1347389f2ab93d60773d4d</td>\n",
              "      <td>16981</td>\n",
              "      <td>a5d2c3628987712d0e05c4f90798eb67</td>\n",
              "      <td>3</td>\n",
              "      <td>Recommended by Don Katz. Avail for free in Dec...</td>\n",
              "      <td>Mon Dec 05 10:46:44 -0800 2016</td>\n",
              "      <td>Wed Mar 22 11:37:04 -0700 2017</td>\n",
              "      <td>NaN</td>\n",
              "      <td>NaN</td>\n",
              "      <td>1</td>\n",
              "      <td>0</td>\n",
              "    </tr>\n",
              "    <tr>\n",
              "      <th>2</th>\n",
              "      <td>8842281e1d1347389f2ab93d60773d4d</td>\n",
              "      <td>28684704</td>\n",
              "      <td>2ede853b14dc4583f96cf5d120af636f</td>\n",
              "      <td>3</td>\n",
              "      <td>A fun, fast paced science fiction thriller. I ...</td>\n",
              "      <td>Tue Nov 15 11:29:22 -0800 2016</td>\n",
              "      <td>Mon Mar 20 23:40:27 -0700 2017</td>\n",
              "      <td>Sat Mar 18 23:22:42 -0700 2017</td>\n",
              "      <td>Fri Mar 17 23:45:40 -0700 2017</td>\n",
              "      <td>22</td>\n",
              "      <td>0</td>\n",
              "    </tr>\n",
              "    <tr>\n",
              "      <th>3</th>\n",
              "      <td>8842281e1d1347389f2ab93d60773d4d</td>\n",
              "      <td>27161156</td>\n",
              "      <td>ced5675e55cd9d38a524743f5c40996e</td>\n",
              "      <td>0</td>\n",
              "      <td>Recommended reading to understand what is goin...</td>\n",
              "      <td>Wed Nov 09 17:37:04 -0800 2016</td>\n",
              "      <td>Wed Nov 09 17:38:20 -0800 2016</td>\n",
              "      <td>NaN</td>\n",
              "      <td>NaN</td>\n",
              "      <td>5</td>\n",
              "      <td>1</td>\n",
              "    </tr>\n",
              "    <tr>\n",
              "      <th>4</th>\n",
              "      <td>8842281e1d1347389f2ab93d60773d4d</td>\n",
              "      <td>25884323</td>\n",
              "      <td>332732725863131279a8e345b63ac33e</td>\n",
              "      <td>4</td>\n",
              "      <td>I really enjoyed this book, and there is a lot...</td>\n",
              "      <td>Mon Apr 25 09:31:23 -0700 2016</td>\n",
              "      <td>Mon Apr 25 09:31:23 -0700 2016</td>\n",
              "      <td>Sun Jun 26 00:00:00 -0700 2016</td>\n",
              "      <td>Sat May 28 00:00:00 -0700 2016</td>\n",
              "      <td>9</td>\n",
              "      <td>1</td>\n",
              "    </tr>\n",
              "    <tr>\n",
              "      <th>...</th>\n",
              "      <td>...</td>\n",
              "      <td>...</td>\n",
              "      <td>...</td>\n",
              "      <td>...</td>\n",
              "      <td>...</td>\n",
              "      <td>...</td>\n",
              "      <td>...</td>\n",
              "      <td>...</td>\n",
              "      <td>...</td>\n",
              "      <td>...</td>\n",
              "      <td>...</td>\n",
              "    </tr>\n",
              "    <tr>\n",
              "      <th>899995</th>\n",
              "      <td>b9450d1c1f97f891c392b1105959b56e</td>\n",
              "      <td>11832081</td>\n",
              "      <td>7c34c15ad8cb28a4afca32946e2016ea</td>\n",
              "      <td>3</td>\n",
              "      <td>3.5 stars. \\n Jenna is a popular YA author and...</td>\n",
              "      <td>Fri Nov 16 22:10:17 -0800 2012</td>\n",
              "      <td>Sat Nov 17 22:42:44 -0800 2012</td>\n",
              "      <td>Sat Nov 17 00:00:00 -0800 2012</td>\n",
              "      <td>Fri Nov 16 00:00:00 -0800 2012</td>\n",
              "      <td>0</td>\n",
              "      <td>0</td>\n",
              "    </tr>\n",
              "    <tr>\n",
              "      <th>899996</th>\n",
              "      <td>b9450d1c1f97f891c392b1105959b56e</td>\n",
              "      <td>16095092</td>\n",
              "      <td>e979c735276431915d089cfaf446d64f</td>\n",
              "      <td>3</td>\n",
              "      <td>This was a quick read for me. I have read a lo...</td>\n",
              "      <td>Fri Nov 16 22:09:49 -0800 2012</td>\n",
              "      <td>Sat Nov 17 23:38:58 -0800 2012</td>\n",
              "      <td>Sat Nov 17 00:00:00 -0800 2012</td>\n",
              "      <td>Fri Nov 16 00:00:00 -0800 2012</td>\n",
              "      <td>1</td>\n",
              "      <td>1</td>\n",
              "    </tr>\n",
              "    <tr>\n",
              "      <th>899997</th>\n",
              "      <td>b9450d1c1f97f891c392b1105959b56e</td>\n",
              "      <td>8430896</td>\n",
              "      <td>feb9fe6439f9fbba8a1cce36020ad977</td>\n",
              "      <td>4</td>\n",
              "      <td>** spoiler alert ** \\n 3.5 stars. \\n This book...</td>\n",
              "      <td>Tue Nov 13 05:38:24 -0800 2012</td>\n",
              "      <td>Tue Nov 13 23:29:17 -0800 2012</td>\n",
              "      <td>Tue Nov 13 00:00:00 -0800 2012</td>\n",
              "      <td>Tue Nov 13 00:00:00 -0800 2012</td>\n",
              "      <td>1</td>\n",
              "      <td>0</td>\n",
              "    </tr>\n",
              "    <tr>\n",
              "      <th>899998</th>\n",
              "      <td>b9450d1c1f97f891c392b1105959b56e</td>\n",
              "      <td>12275680</td>\n",
              "      <td>741e29369f70531bfffbd02add86f228</td>\n",
              "      <td>4</td>\n",
              "      <td>** spoiler alert ** \\n Another fun read from M...</td>\n",
              "      <td>Mon Nov 12 05:42:30 -0800 2012</td>\n",
              "      <td>Tue Nov 13 22:32:05 -0800 2012</td>\n",
              "      <td>Tue Nov 13 00:00:00 -0800 2012</td>\n",
              "      <td>Mon Nov 12 00:00:00 -0800 2012</td>\n",
              "      <td>0</td>\n",
              "      <td>0</td>\n",
              "    </tr>\n",
              "    <tr>\n",
              "      <th>899999</th>\n",
              "      <td>b9450d1c1f97f891c392b1105959b56e</td>\n",
              "      <td>17005</td>\n",
              "      <td>d55f3a967230940e75a314700caec9a5</td>\n",
              "      <td>3</td>\n",
              "      <td>** spoiler alert ** \\n 3.5 stars \\n I liked it...</td>\n",
              "      <td>Sun Nov 11 00:05:43 -0800 2012</td>\n",
              "      <td>Sun Nov 11 21:59:08 -0800 2012</td>\n",
              "      <td>Sun Nov 11 00:00:00 -0800 2012</td>\n",
              "      <td>Sun Nov 11 00:00:00 -0800 2012</td>\n",
              "      <td>0</td>\n",
              "      <td>0</td>\n",
              "    </tr>\n",
              "  </tbody>\n",
              "</table>\n",
              "<p>900000 rows × 11 columns</p>\n",
              "</div>\n",
              "      <button class=\"colab-df-convert\" onclick=\"convertToInteractive('df-afb75a3f-b4d0-49fe-8df3-68eddab7ece1')\"\n",
              "              title=\"Convert this dataframe to an interactive table.\"\n",
              "              style=\"display:none;\">\n",
              "        \n",
              "  <svg xmlns=\"http://www.w3.org/2000/svg\" height=\"24px\"viewBox=\"0 0 24 24\"\n",
              "       width=\"24px\">\n",
              "    <path d=\"M0 0h24v24H0V0z\" fill=\"none\"/>\n",
              "    <path d=\"M18.56 5.44l.94 2.06.94-2.06 2.06-.94-2.06-.94-.94-2.06-.94 2.06-2.06.94zm-11 1L8.5 8.5l.94-2.06 2.06-.94-2.06-.94L8.5 2.5l-.94 2.06-2.06.94zm10 10l.94 2.06.94-2.06 2.06-.94-2.06-.94-.94-2.06-.94 2.06-2.06.94z\"/><path d=\"M17.41 7.96l-1.37-1.37c-.4-.4-.92-.59-1.43-.59-.52 0-1.04.2-1.43.59L10.3 9.45l-7.72 7.72c-.78.78-.78 2.05 0 2.83L4 21.41c.39.39.9.59 1.41.59.51 0 1.02-.2 1.41-.59l7.78-7.78 2.81-2.81c.8-.78.8-2.07 0-2.86zM5.41 20L4 18.59l7.72-7.72 1.47 1.35L5.41 20z\"/>\n",
              "  </svg>\n",
              "      </button>\n",
              "      \n",
              "  <style>\n",
              "    .colab-df-container {\n",
              "      display:flex;\n",
              "      flex-wrap:wrap;\n",
              "      gap: 12px;\n",
              "    }\n",
              "\n",
              "    .colab-df-convert {\n",
              "      background-color: #E8F0FE;\n",
              "      border: none;\n",
              "      border-radius: 50%;\n",
              "      cursor: pointer;\n",
              "      display: none;\n",
              "      fill: #1967D2;\n",
              "      height: 32px;\n",
              "      padding: 0 0 0 0;\n",
              "      width: 32px;\n",
              "    }\n",
              "\n",
              "    .colab-df-convert:hover {\n",
              "      background-color: #E2EBFA;\n",
              "      box-shadow: 0px 1px 2px rgba(60, 64, 67, 0.3), 0px 1px 3px 1px rgba(60, 64, 67, 0.15);\n",
              "      fill: #174EA6;\n",
              "    }\n",
              "\n",
              "    [theme=dark] .colab-df-convert {\n",
              "      background-color: #3B4455;\n",
              "      fill: #D2E3FC;\n",
              "    }\n",
              "\n",
              "    [theme=dark] .colab-df-convert:hover {\n",
              "      background-color: #434B5C;\n",
              "      box-shadow: 0px 1px 3px 1px rgba(0, 0, 0, 0.15);\n",
              "      filter: drop-shadow(0px 1px 2px rgba(0, 0, 0, 0.3));\n",
              "      fill: #FFFFFF;\n",
              "    }\n",
              "  </style>\n",
              "\n",
              "      <script>\n",
              "        const buttonEl =\n",
              "          document.querySelector('#df-afb75a3f-b4d0-49fe-8df3-68eddab7ece1 button.colab-df-convert');\n",
              "        buttonEl.style.display =\n",
              "          google.colab.kernel.accessAllowed ? 'block' : 'none';\n",
              "\n",
              "        async function convertToInteractive(key) {\n",
              "          const element = document.querySelector('#df-afb75a3f-b4d0-49fe-8df3-68eddab7ece1');\n",
              "          const dataTable =\n",
              "            await google.colab.kernel.invokeFunction('convertToInteractive',\n",
              "                                                     [key], {});\n",
              "          if (!dataTable) return;\n",
              "\n",
              "          const docLinkHtml = 'Like what you see? Visit the ' +\n",
              "            '<a target=\"_blank\" href=https://colab.research.google.com/notebooks/data_table.ipynb>data table notebook</a>'\n",
              "            + ' to learn more about interactive tables.';\n",
              "          element.innerHTML = '';\n",
              "          dataTable['output_type'] = 'display_data';\n",
              "          await google.colab.output.renderOutput(dataTable, element);\n",
              "          const docLink = document.createElement('div');\n",
              "          docLink.innerHTML = docLinkHtml;\n",
              "          element.appendChild(docLink);\n",
              "        }\n",
              "      </script>\n",
              "    </div>\n",
              "  </div>\n",
              "  "
            ]
          },
          "metadata": {},
          "execution_count": 7
        }
      ]
    },
    {
      "cell_type": "code",
      "source": [
        "import random\n",
        "train_df=train_df[0:100000]\n",
        "test_df=test_df[0:50000]"
      ],
      "metadata": {
        "id": "t5EIIuHM4OrM"
      },
      "execution_count": 8,
      "outputs": []
    },
    {
      "cell_type": "code",
      "source": [
        "import matplotlib.pyplot as plt\n",
        "import seaborn as sns\n",
        "sns.countplot(x = train_df.rating)\n"
      ],
      "metadata": {
        "colab": {
          "base_uri": "https://localhost:8080/",
          "height": 296
        },
        "id": "aagqYmmSE1fk",
        "outputId": "6607150e-7a16-4a41-e5c1-9c46086e614c"
      },
      "execution_count": 9,
      "outputs": [
        {
          "output_type": "execute_result",
          "data": {
            "text/plain": [
              "<Axes: xlabel='rating', ylabel='count'>"
            ]
          },
          "metadata": {},
          "execution_count": 9
        },
        {
          "output_type": "display_data",
          "data": {
            "text/plain": [
              "<Figure size 432x288 with 1 Axes>"
            ],
            "image/png": "[encoded data removed]"
          },
          "metadata": {
            "needs_background": "light"
          }
        }
      ]
    },
    {
      "cell_type": "code",
      "source": [
        "train_df.isna().sum()"
      ],
      "metadata": {
        "colab": {
          "base_uri": "https://localhost:8080/"
        },
        "id": "jtvDeABxHIx5",
        "outputId": "a5309c84-c936-496c-9e8c-904dfc18e5d3"
      },
      "execution_count": 10,
      "outputs": [
        {
          "output_type": "execute_result",
          "data": {
            "text/plain": [
              "user_id             0\n",
              "book_id             0\n",
              "review_id           0\n",
              "rating              0\n",
              "review_text         0\n",
              "date_added          0\n",
              "date_updated        0\n",
              "read_at          9448\n",
              "started_at      32692\n",
              "n_votes             0\n",
              "n_comments          0\n",
              "dtype: int64"
            ]
          },
          "metadata": {},
          "execution_count": 10
        }
      ]
    },
    {
      "cell_type": "code",
      "source": [
        "test_df.isna().sum()"
      ],
      "metadata": {
        "colab": {
          "base_uri": "https://localhost:8080/"
        },
        "id": "X21KKS95HRJ6",
        "outputId": "1ed8ff83-0929-4213-df3b-a8123829011d"
      },
      "execution_count": 11,
      "outputs": [
        {
          "output_type": "execute_result",
          "data": {
            "text/plain": [
              "user_id             0\n",
              "book_id             0\n",
              "review_id           0\n",
              "review_text         0\n",
              "date_added          0\n",
              "date_updated        0\n",
              "read_at          4859\n",
              "started_at      13773\n",
              "n_votes             0\n",
              "n_comments          0\n",
              "dtype: int64"
            ]
          },
          "metadata": {},
          "execution_count": 11
        }
      ]
    },
    {
      "cell_type": "code",
      "source": [
        "common_df = pd.concat([train_df.review_text, test_df.review_text]).reset_index(drop = True)\n",
        "common_df"
      ],
      "metadata": {
        "colab": {
          "base_uri": "https://localhost:8080/"
        },
        "id": "4yhJ_QJ8HSmU",
        "outputId": "1585ee02-3f0b-497b-8652-75ff89bc447b"
      },
      "execution_count": 12,
      "outputs": [
        {
          "output_type": "execute_result",
          "data": {
            "text/plain": [
              "0         This is a special book. It started slow for ab...\n",
              "1         Recommended by Don Katz. Avail for free in Dec...\n",
              "2         A fun, fast paced science fiction thriller. I ...\n",
              "3         Recommended reading to understand what is goin...\n",
              "4         I really enjoyed this book, and there is a lot...\n",
              "                                ...                        \n",
              "149995                       Cannot wait for the last book!\n",
              "149996    I cringed everytime she stares at Christian. I...\n",
              "149997    You will laugh, you will cry, and your heart w...\n",
              "149998    Wow! Amazing, definitely the best book out of ...\n",
              "149999                         Absolutely loved the series!\n",
              "Name: review_text, Length: 150000, dtype: object"
            ]
          },
          "metadata": {},
          "execution_count": 12
        }
      ]
    },
    {
      "cell_type": "code",
      "source": [
        "# to lower\n",
        "def to_lower(text):\n",
        "    return text.lower()"
      ],
      "metadata": {
        "id": "NhA31jQJHZSx"
      },
      "execution_count": 13,
      "outputs": []
    },
    {
      "cell_type": "code",
      "source": [
        "#remove stopwords\n",
        "import nltk\n",
        "nltk.download('stopwords')\n",
        "from nltk.corpus import stopwords\n",
        "stop = set(stopwords.words('english'))\n",
        "\n",
        "def remove_stopwords(text):\n",
        "    return ' '.join([word for word in text.split() if word not in stop])\n"
      ],
      "metadata": {
        "colab": {
          "base_uri": "https://localhost:8080/"
        },
        "id": "g7xjeqvRHetW",
        "outputId": "4ba47b5f-51d0-4739-80fa-6688c5a4973f"
      },
      "execution_count": 14,
      "outputs": [
        {
          "output_type": "stream",
          "name": "stderr",
          "text": [
            "[nltk_data] Downloading package stopwords to /root/nltk_data...\n",
            "[nltk_data]   Unzipping corpora/stopwords.zip.\n"
          ]
        }
      ]
    },
    {
      "cell_type": "code",
      "source": [
        "import re\n",
        "from urllib.parse import urlparse\n",
        "\n",
        "def remove_url(text):\n",
        "    url = re.compile(r'https?://\\S+')\n",
        "    return url.sub(r'',text)\n",
        "\n",
        "print('Example:\\n' + common_df[10])"
      ],
      "metadata": {
        "colab": {
          "base_uri": "https://localhost:8080/"
        },
        "id": "KSnlIKQrHiZw",
        "outputId": "0e86f142-956e-4094-91cb-8001fb9e58eb"
      },
      "execution_count": 15,
      "outputs": [
        {
          "output_type": "stream",
          "name": "stdout",
          "text": [
            "Example:\n",
            "A beautiful story. Neil Gaiman is truly a unique storyteller. I did a combo of reading and listening to this story, and Neil is great at reading as well. I got interested in this book after seeing the movie, which I really enjoyed. The book is similar - maybe a bit more poetic - but I think the plot in the movie is a bit improved (not much, but a bit). \n",
            " I imagine this book came about because Neil read the below poem that he includes in the beginning, and then he invented a plot around it. The result is the book reads like a epic poem - it's creative, magical, and really, just right. \n",
            " Go and catch a falling star, \n",
            " Get with child a mandrake root, \n",
            " Tell me where all past years are, \n",
            " Or who cleft the devil's foot, \n",
            " Teach me to hear mermaids singing, \n",
            " Or to keep off envy's stinging, \n",
            " And find \n",
            " What wind \n",
            " Serves to advance an honest mind. \n",
            " If thou be'st born to strange sights, \n",
            " Things invisible to see, \n",
            " Ride ten thousand days and nights, \n",
            " Till age snow white hairs on thee, \n",
            " Thou, when thou return'st, wilt tell me, \n",
            " All strange wonders that befell thee, \n",
            " And swear, \n",
            " No where \n",
            " Lives a woman true, and fair. \n",
            " If thou find'st one, let me know, \n",
            " Such a pilgrimage were sweet; \n",
            " Yet do not, I would not go, \n",
            " Though at next door we might meet; \n",
            " Though she were true, when you met her, \n",
            " And last, till you write your letter, \n",
            " Yet she \n",
            " Will be \n",
            " False, ere I come, to two, or three. \n",
            " And here is my new favorite quote: \"Have been unavoidably detained by the world. Expect us when you see us.\"\n"
          ]
        }
      ]
    },
    {
      "cell_type": "code",
      "source": [
        "import string\n",
        "remove = string.punctuation\n",
        "\n",
        "period = '.'\n",
        "remove = remove.replace(period, '')\n",
        "\n",
        "def remove_punctuation(text):\n",
        "    pattern = re.compile(r\"[{}]\".format(re.escape(remove)))\n",
        "    \n",
        "    res = []\n",
        "    for word in text.split():\n",
        "        \n",
        "        # remove all punctiations except periods\n",
        "        new_word = pattern.sub(r' ', word)\n",
        "        new_word = new_word.strip(period)\n",
        "        \n",
        "        try:\n",
        "            float(new_word)\n",
        "        except:\n",
        "            new_word = new_word.replace(period, ' ')\n",
        "            \n",
        "        res.append(new_word)\n",
        "    \n",
        "    return ' '.join(res)"
      ],
      "metadata": {
        "id": "AdkxMaGdHr4Z"
      },
      "execution_count": 16,
      "outputs": []
    },
    {
      "cell_type": "code",
      "source": [
        "# remove all non-alphabetic chars (punctuation, numbers, emojies ...)\n",
        "def remove_non_alphabetic(text):\n",
        "    alpha = re.compile(r'[^a-zA-Z]') \n",
        "    return alpha.sub(r' ', text)"
      ],
      "metadata": {
        "id": "NH8K5ddPIC0T"
      },
      "execution_count": 17,
      "outputs": []
    },
    {
      "cell_type": "code",
      "source": [
        "def remove_quotes(text):\n",
        "    alpha = re.compile(r'\"([^\"\\\\]|\\\\.)*\"') \n",
        "    return alpha.sub(r' ', text)"
      ],
      "metadata": {
        "id": "zguRGm8mIFLA"
      },
      "execution_count": 18,
      "outputs": []
    },
    {
      "cell_type": "code",
      "source": [
        "def remove_spoiler_alert(text):\n",
        "    spoiler = re.compile(r'(\\(view spoiler\\).*?\\(hide spoiler\\))') \n",
        "    return spoiler.sub(r' ', text)"
      ],
      "metadata": {
        "id": "ufovZFI4IHe9"
      },
      "execution_count": 19,
      "outputs": []
    },
    {
      "cell_type": "code",
      "source": [
        "def remove_small_words(text):\n",
        "    return ' '.join([word for word in text.split() if len(word) > 2])"
      ],
      "metadata": {
        "id": "v6U_QYLbIRL1"
      },
      "execution_count": 20,
      "outputs": []
    },
    {
      "cell_type": "code",
      "source": [
        "MAX_LEN = 100\n"
      ],
      "metadata": {
        "id": "ZlwFZl9dITID"
      },
      "execution_count": 21,
      "outputs": []
    },
    {
      "cell_type": "code",
      "source": [
        "def process_text(text):\n",
        "    text = to_lower(text)\n",
        "    text = remove_url(text)\n",
        "    #text = remove_spoiler_alert(text)\n",
        "    text = remove_quotes(text)\n",
        "    text = remove_non_alphabetic(text)\n",
        "    text = remove_punctuation(text)\n",
        "    text = remove_stopwords(text)\n",
        "    #text = remove_small_words(text)\n",
        "    \n",
        "    # take only first MAX_LEN words\n",
        "    text = ' '.join(text.split()[:MAX_LEN])\n",
        "    return text"
      ],
      "metadata": {
        "id": "7x2J2hYzITlG"
      },
      "execution_count": 22,
      "outputs": []
    },
    {
      "cell_type": "code",
      "source": [
        "common_df = common_df.apply(process_text)\n",
        "\n",
        "# check min number of words\n",
        "common_df.apply(lambda x : len(x.split())).min()\n"
      ],
      "metadata": {
        "colab": {
          "base_uri": "https://localhost:8080/"
        },
        "id": "Vik-ItOnIWpI",
        "outputId": "b5868db2-5d0f-4b31-cdd2-40e056a761d6"
      },
      "execution_count": 23,
      "outputs": [
        {
          "output_type": "execute_result",
          "data": {
            "text/plain": [
              "0"
            ]
          },
          "metadata": {},
          "execution_count": 23
        }
      ]
    },
    {
      "cell_type": "code",
      "source": [
        "# check if train set has null values \n",
        "train = common_df.iloc[:len(train_df)].set_axis(train_df.index)\n",
        "train_df.loc[train[train == ''].index]"
      ],
      "metadata": {
        "colab": {
          "base_uri": "https://localhost:8080/",
          "height": 814
        },
        "id": "yUoUrwMwIcz_",
        "outputId": "9c28bfa8-75c8-4d99-d9c7-3c5e640f03f2"
      },
      "execution_count": 24,
      "outputs": [
        {
          "output_type": "execute_result",
          "data": {
            "text/plain": [
              "                                user_id   book_id  \\\n",
              "1136   34216df2a5f3846b17e3f96bea6c2ad7   7818684   \n",
              "1230   5f550cc8d90df1759eda1496621187d8     10799   \n",
              "4803   ed4ecf39b59b9d04ac88cd57566c1135  17334079   \n",
              "7198   951a6001dea709fe3743516b144634ea     62530   \n",
              "7447   69f90ac336d51207e11f119dbb3179dc  13337715   \n",
              "...                                 ...       ...   \n",
              "94857  909e430324d1d07372797a539e9c114f  15736709   \n",
              "96333  1fd99c8fcc3a5ac2dca745daf4f28d70  10507293   \n",
              "96405  1fd99c8fcc3a5ac2dca745daf4f28d70     41865   \n",
              "96407  1fd99c8fcc3a5ac2dca745daf4f28d70   7261699   \n",
              "96927  14124a9d809f24b312ff29fd3d9f41ac     41865   \n",
              "\n",
              "                              review_id  rating  \\\n",
              "1136   ee2b6a6ef25de1ddf311faedfee82357       3   \n",
              "1230   9cd415e65c07375d1ca04d3fcded80e4       4   \n",
              "4803   1b702b7c86ad6ba19b1bc13b9689089d       2   \n",
              "7198   f6586d2c532eb99a3059a26da216df4c       5   \n",
              "7447   8217c287323118d406be9c0b434bf144       5   \n",
              "...                                 ...     ...   \n",
              "94857  f2208998c7117b43a0f69ab6a26968f7       2   \n",
              "96333  8974a08d8b61896cf35dd250a46e4b82       1   \n",
              "96405  aa841b9d74a8c15152a7acf3ea3c39be       1   \n",
              "96407  576e7c0b6a9aec5e39ff7986de890fe1       4   \n",
              "96927  67810894cfb80e7e160a50f3add24349       2   \n",
              "\n",
              "                                             review_text  \\\n",
              "1136                                         3.5 or 3.75   \n",
              "1230   \"I had seen nothing sacred, and the things tha...   \n",
              "4803                                        what is this   \n",
              "7198              \"No! That! Is!! Not!!! My!!! Cow!!!!!\"   \n",
              "7447   \"A reader lives a thousand lives before he die...   \n",
              "...                                                  ...   \n",
              "94857                           This just wasn't for me.   \n",
              "96333                               That was just... no.   \n",
              "96405  \"He still had my chin -- his fingers holding t...   \n",
              "96407  \"You are wrong when you say there is no power ...   \n",
              "96927             \"Slotted spoons don't hold much soup.\"   \n",
              "\n",
              "                           date_added                    date_updated  \\\n",
              "1136   Sat Sep 19 08:56:14 -0700 2015  Tue Aug 15 14:27:00 -0700 2017   \n",
              "1230   Thu Nov 28 23:30:46 -0800 2013  Tue Apr 08 00:35:33 -0700 2014   \n",
              "4803   Fri Apr 26 22:37:39 -0700 2013  Wed May 08 03:57:21 -0700 2013   \n",
              "7198   Wed Dec 16 22:53:25 -0800 2015  Wed Dec 16 23:02:07 -0800 2015   \n",
              "7447   Wed May 01 12:07:03 -0700 2013  Fri May 10 11:49:47 -0700 2013   \n",
              "...                               ...                             ...   \n",
              "94857  Thu Sep 17 04:59:58 -0700 2015  Sat Jan 09 07:48:10 -0800 2016   \n",
              "96333  Fri Jan 30 03:28:26 -0800 2015  Sat Jan 31 14:00:26 -0800 2015   \n",
              "96405  Fri Jan 04 08:27:09 -0800 2013  Mon Apr 13 13:00:15 -0700 2015   \n",
              "96407  Tue Jan 01 03:01:21 -0800 2013  Sat Feb 09 03:54:42 -0800 2013   \n",
              "96927  Sun Aug 09 20:59:06 -0700 2009  Sun Aug 09 21:03:28 -0700 2009   \n",
              "\n",
              "                              read_at                      started_at  \\\n",
              "1136   Tue Aug 15 14:27:00 -0700 2017  Sun Aug 13 00:00:00 -0700 2017   \n",
              "1230                              NaN                             NaN   \n",
              "4803   Fri Apr 26 00:00:00 -0700 2013  Fri Apr 26 00:00:00 -0700 2013   \n",
              "7198   Mon May 25 00:00:00 -0700 2015  Mon May 25 00:00:00 -0700 2015   \n",
              "7447   Fri May 10 11:49:47 -0700 2013  Wed May 01 00:00:00 -0700 2013   \n",
              "...                               ...                             ...   \n",
              "94857  Sat Jan 09 07:48:10 -0800 2016  Fri Jan 08 00:00:00 -0800 2016   \n",
              "96333  Sat Jan 31 15:44:48 -0800 2015  Fri Jan 30 00:00:00 -0800 2015   \n",
              "96405                             NaN                             NaN   \n",
              "96407  Fri Feb 08 00:00:00 -0800 2013                             NaN   \n",
              "96927                             NaN                             NaN   \n",
              "\n",
              "       n_votes  n_comments  \n",
              "1136         1           0  \n",
              "1230         0           0  \n",
              "4803         1           1  \n",
              "7198         0           0  \n",
              "7447         1           0  \n",
              "...        ...         ...  \n",
              "94857        0           0  \n",
              "96333        4           6  \n",
              "96405       13           5  \n",
              "96407        2           0  \n",
              "96927        0           0  \n",
              "\n",
              "[92 rows x 11 columns]"
            ],
            "text/html": [
              "\n",
              "  <div id=\"df-e9bb87e7-6813-4333-baec-ae4e73e78427\">\n",
              "    <div class=\"colab-df-container\">\n",
              "      <div>\n",
              "<style scoped>\n",
              "    .dataframe tbody tr th:only-of-type {\n",
              "        vertical-align: middle;\n",
              "    }\n",
              "\n",
              "    .dataframe tbody tr th {\n",
              "        vertical-align: top;\n",
              "    }\n",
              "\n",
              "    .dataframe thead th {\n",
              "        text-align: right;\n",
              "    }\n",
              "</style>\n",
              "<table border=\"1\" class=\"dataframe\">\n",
              "  <thead>\n",
              "    <tr style=\"text-align: right;\">\n",
              "      <th></th>\n",
              "      <th>user_id</th>\n",
              "      <th>book_id</th>\n",
              "      <th>review_id</th>\n",
              "      <th>rating</th>\n",
              "      <th>review_text</th>\n",
              "      <th>date_added</th>\n",
              "      <th>date_updated</th>\n",
              "      <th>read_at</th>\n",
              "      <th>started_at</th>\n",
              "      <th>n_votes</th>\n",
              "      <th>n_comments</th>\n",
              "    </tr>\n",
              "  </thead>\n",
              "  <tbody>\n",
              "    <tr>\n",
              "      <th>1136</th>\n",
              "      <td>34216df2a5f3846b17e3f96bea6c2ad7</td>\n",
              "      <td>7818684</td>\n",
              "      <td>ee2b6a6ef25de1ddf311faedfee82357</td>\n",
              "      <td>3</td>\n",
              "      <td>3.5 or 3.75</td>\n",
              "      <td>Sat Sep 19 08:56:14 -0700 2015</td>\n",
              "      <td>Tue Aug 15 14:27:00 -0700 2017</td>\n",
              "      <td>Tue Aug 15 14:27:00 -0700 2017</td>\n",
              "      <td>Sun Aug 13 00:00:00 -0700 2017</td>\n",
              "      <td>1</td>\n",
              "      <td>0</td>\n",
              "    </tr>\n",
              "    <tr>\n",
              "      <th>1230</th>\n",
              "      <td>5f550cc8d90df1759eda1496621187d8</td>\n",
              "      <td>10799</td>\n",
              "      <td>9cd415e65c07375d1ca04d3fcded80e4</td>\n",
              "      <td>4</td>\n",
              "      <td>\"I had seen nothing sacred, and the things tha...</td>\n",
              "      <td>Thu Nov 28 23:30:46 -0800 2013</td>\n",
              "      <td>Tue Apr 08 00:35:33 -0700 2014</td>\n",
              "      <td>NaN</td>\n",
              "      <td>NaN</td>\n",
              "      <td>0</td>\n",
              "      <td>0</td>\n",
              "    </tr>\n",
              "    <tr>\n",
              "      <th>4803</th>\n",
              "      <td>ed4ecf39b59b9d04ac88cd57566c1135</td>\n",
              "      <td>17334079</td>\n",
              "      <td>1b702b7c86ad6ba19b1bc13b9689089d</td>\n",
              "      <td>2</td>\n",
              "      <td>what is this</td>\n",
              "      <td>Fri Apr 26 22:37:39 -0700 2013</td>\n",
              "      <td>Wed May 08 03:57:21 -0700 2013</td>\n",
              "      <td>Fri Apr 26 00:00:00 -0700 2013</td>\n",
              "      <td>Fri Apr 26 00:00:00 -0700 2013</td>\n",
              "      <td>1</td>\n",
              "      <td>1</td>\n",
              "    </tr>\n",
              "    <tr>\n",
              "      <th>7198</th>\n",
              "      <td>951a6001dea709fe3743516b144634ea</td>\n",
              "      <td>62530</td>\n",
              "      <td>f6586d2c532eb99a3059a26da216df4c</td>\n",
              "      <td>5</td>\n",
              "      <td>\"No! That! Is!! Not!!! My!!! Cow!!!!!\"</td>\n",
              "      <td>Wed Dec 16 22:53:25 -0800 2015</td>\n",
              "      <td>Wed Dec 16 23:02:07 -0800 2015</td>\n",
              "      <td>Mon May 25 00:00:00 -0700 2015</td>\n",
              "      <td>Mon May 25 00:00:00 -0700 2015</td>\n",
              "      <td>0</td>\n",
              "      <td>0</td>\n",
              "    </tr>\n",
              "    <tr>\n",
              "      <th>7447</th>\n",
              "      <td>69f90ac336d51207e11f119dbb3179dc</td>\n",
              "      <td>13337715</td>\n",
              "      <td>8217c287323118d406be9c0b434bf144</td>\n",
              "      <td>5</td>\n",
              "      <td>\"A reader lives a thousand lives before he die...</td>\n",
              "      <td>Wed May 01 12:07:03 -0700 2013</td>\n",
              "      <td>Fri May 10 11:49:47 -0700 2013</td>\n",
              "      <td>Fri May 10 11:49:47 -0700 2013</td>\n",
              "      <td>Wed May 01 00:00:00 -0700 2013</td>\n",
              "      <td>1</td>\n",
              "      <td>0</td>\n",
              "    </tr>\n",
              "    <tr>\n",
              "      <th>...</th>\n",
              "      <td>...</td>\n",
              "      <td>...</td>\n",
              "      <td>...</td>\n",
              "      <td>...</td>\n",
              "      <td>...</td>\n",
              "      <td>...</td>\n",
              "      <td>...</td>\n",
              "      <td>...</td>\n",
              "      <td>...</td>\n",
              "      <td>...</td>\n",
              "      <td>...</td>\n",
              "    </tr>\n",
              "    <tr>\n",
              "      <th>94857</th>\n",
              "      <td>909e430324d1d07372797a539e9c114f</td>\n",
              "      <td>15736709</td>\n",
              "      <td>f2208998c7117b43a0f69ab6a26968f7</td>\n",
              "      <td>2</td>\n",
              "      <td>This just wasn't for me.</td>\n",
              "      <td>Thu Sep 17 04:59:58 -0700 2015</td>\n",
              "      <td>Sat Jan 09 07:48:10 -0800 2016</td>\n",
              "      <td>Sat Jan 09 07:48:10 -0800 2016</td>\n",
              "      <td>Fri Jan 08 00:00:00 -0800 2016</td>\n",
              "      <td>0</td>\n",
              "      <td>0</td>\n",
              "    </tr>\n",
              "    <tr>\n",
              "      <th>96333</th>\n",
              "      <td>1fd99c8fcc3a5ac2dca745daf4f28d70</td>\n",
              "      <td>10507293</td>\n",
              "      <td>8974a08d8b61896cf35dd250a46e4b82</td>\n",
              "      <td>1</td>\n",
              "      <td>That was just... no.</td>\n",
              "      <td>Fri Jan 30 03:28:26 -0800 2015</td>\n",
              "      <td>Sat Jan 31 14:00:26 -0800 2015</td>\n",
              "      <td>Sat Jan 31 15:44:48 -0800 2015</td>\n",
              "      <td>Fri Jan 30 00:00:00 -0800 2015</td>\n",
              "      <td>4</td>\n",
              "      <td>6</td>\n",
              "    </tr>\n",
              "    <tr>\n",
              "      <th>96405</th>\n",
              "      <td>1fd99c8fcc3a5ac2dca745daf4f28d70</td>\n",
              "      <td>41865</td>\n",
              "      <td>aa841b9d74a8c15152a7acf3ea3c39be</td>\n",
              "      <td>1</td>\n",
              "      <td>\"He still had my chin -- his fingers holding t...</td>\n",
              "      <td>Fri Jan 04 08:27:09 -0800 2013</td>\n",
              "      <td>Mon Apr 13 13:00:15 -0700 2015</td>\n",
              "      <td>NaN</td>\n",
              "      <td>NaN</td>\n",
              "      <td>13</td>\n",
              "      <td>5</td>\n",
              "    </tr>\n",
              "    <tr>\n",
              "      <th>96407</th>\n",
              "      <td>1fd99c8fcc3a5ac2dca745daf4f28d70</td>\n",
              "      <td>7261699</td>\n",
              "      <td>576e7c0b6a9aec5e39ff7986de890fe1</td>\n",
              "      <td>4</td>\n",
              "      <td>\"You are wrong when you say there is no power ...</td>\n",
              "      <td>Tue Jan 01 03:01:21 -0800 2013</td>\n",
              "      <td>Sat Feb 09 03:54:42 -0800 2013</td>\n",
              "      <td>Fri Feb 08 00:00:00 -0800 2013</td>\n",
              "      <td>NaN</td>\n",
              "      <td>2</td>\n",
              "      <td>0</td>\n",
              "    </tr>\n",
              "    <tr>\n",
              "      <th>96927</th>\n",
              "      <td>14124a9d809f24b312ff29fd3d9f41ac</td>\n",
              "      <td>41865</td>\n",
              "      <td>67810894cfb80e7e160a50f3add24349</td>\n",
              "      <td>2</td>\n",
              "      <td>\"Slotted spoons don't hold much soup.\"</td>\n",
              "      <td>Sun Aug 09 20:59:06 -0700 2009</td>\n",
              "      <td>Sun Aug 09 21:03:28 -0700 2009</td>\n",
              "      <td>NaN</td>\n",
              "      <td>NaN</td>\n",
              "      <td>0</td>\n",
              "      <td>0</td>\n",
              "    </tr>\n",
              "  </tbody>\n",
              "</table>\n",
              "<p>92 rows × 11 columns</p>\n",
              "</div>\n",
              "      <button class=\"colab-df-convert\" onclick=\"convertToInteractive('df-e9bb87e7-6813-4333-baec-ae4e73e78427')\"\n",
              "              title=\"Convert this dataframe to an interactive table.\"\n",
              "              style=\"display:none;\">\n",
              "        \n",
              "  <svg xmlns=\"http://www.w3.org/2000/svg\" height=\"24px\"viewBox=\"0 0 24 24\"\n",
              "       width=\"24px\">\n",
              "    <path d=\"M0 0h24v24H0V0z\" fill=\"none\"/>\n",
              "    <path d=\"M18.56 5.44l.94 2.06.94-2.06 2.06-.94-2.06-.94-.94-2.06-.94 2.06-2.06.94zm-11 1L8.5 8.5l.94-2.06 2.06-.94-2.06-.94L8.5 2.5l-.94 2.06-2.06.94zm10 10l.94 2.06.94-2.06 2.06-.94-2.06-.94-.94-2.06-.94 2.06-2.06.94z\"/><path d=\"M17.41 7.96l-1.37-1.37c-.4-.4-.92-.59-1.43-.59-.52 0-1.04.2-1.43.59L10.3 9.45l-7.72 7.72c-.78.78-.78 2.05 0 2.83L4 21.41c.39.39.9.59 1.41.59.51 0 1.02-.2 1.41-.59l7.78-7.78 2.81-2.81c.8-.78.8-2.07 0-2.86zM5.41 20L4 18.59l7.72-7.72 1.47 1.35L5.41 20z\"/>\n",
              "  </svg>\n",
              "      </button>\n",
              "      \n",
              "  <style>\n",
              "    .colab-df-container {\n",
              "      display:flex;\n",
              "      flex-wrap:wrap;\n",
              "      gap: 12px;\n",
              "    }\n",
              "\n",
              "    .colab-df-convert {\n",
              "      background-color: #E8F0FE;\n",
              "      border: none;\n",
              "      border-radius: 50%;\n",
              "      cursor: pointer;\n",
              "      display: none;\n",
              "      fill: #1967D2;\n",
              "      height: 32px;\n",
              "      padding: 0 0 0 0;\n",
              "      width: 32px;\n",
              "    }\n",
              "\n",
              "    .colab-df-convert:hover {\n",
              "      background-color: #E2EBFA;\n",
              "      box-shadow: 0px 1px 2px rgba(60, 64, 67, 0.3), 0px 1px 3px 1px rgba(60, 64, 67, 0.15);\n",
              "      fill: #174EA6;\n",
              "    }\n",
              "\n",
              "    [theme=dark] .colab-df-convert {\n",
              "      background-color: #3B4455;\n",
              "      fill: #D2E3FC;\n",
              "    }\n",
              "\n",
              "    [theme=dark] .colab-df-convert:hover {\n",
              "      background-color: #434B5C;\n",
              "      box-shadow: 0px 1px 3px 1px rgba(0, 0, 0, 0.15);\n",
              "      filter: drop-shadow(0px 1px 2px rgba(0, 0, 0, 0.3));\n",
              "      fill: #FFFFFF;\n",
              "    }\n",
              "  </style>\n",
              "\n",
              "      <script>\n",
              "        const buttonEl =\n",
              "          document.querySelector('#df-e9bb87e7-6813-4333-baec-ae4e73e78427 button.colab-df-convert');\n",
              "        buttonEl.style.display =\n",
              "          google.colab.kernel.accessAllowed ? 'block' : 'none';\n",
              "\n",
              "        async function convertToInteractive(key) {\n",
              "          const element = document.querySelector('#df-e9bb87e7-6813-4333-baec-ae4e73e78427');\n",
              "          const dataTable =\n",
              "            await google.colab.kernel.invokeFunction('convertToInteractive',\n",
              "                                                     [key], {});\n",
              "          if (!dataTable) return;\n",
              "\n",
              "          const docLinkHtml = 'Like what you see? Visit the ' +\n",
              "            '<a target=\"_blank\" href=https://colab.research.google.com/notebooks/data_table.ipynb>data table notebook</a>'\n",
              "            + ' to learn more about interactive tables.';\n",
              "          element.innerHTML = '';\n",
              "          dataTable['output_type'] = 'display_data';\n",
              "          await google.colab.output.renderOutput(dataTable, element);\n",
              "          const docLink = document.createElement('div');\n",
              "          docLink.innerHTML = docLinkHtml;\n",
              "          element.appendChild(docLink);\n",
              "        }\n",
              "      </script>\n",
              "    </div>\n",
              "  </div>\n",
              "  "
            ]
          },
          "metadata": {},
          "execution_count": 24
        }
      ]
    },
    {
      "cell_type": "code",
      "source": [
        "# check if text set has null values \n",
        "test = common_df.iloc[-len(test_df):].set_axis(test_df.index)\n",
        "test_df.loc[test[test == ''].index]"
      ],
      "metadata": {
        "colab": {
          "base_uri": "https://localhost:8080/",
          "height": 814
        },
        "id": "hXB1ZVxyIee2",
        "outputId": "b1d10774-c85f-4130-e67f-c52972624229"
      },
      "execution_count": 25,
      "outputs": [
        {
          "output_type": "execute_result",
          "data": {
            "text/plain": [
              "                                user_id   book_id  \\\n",
              "9403   3eb8ce35cf067c802f072fea8c313067  28597587   \n",
              "9455   b8ae0af5695c263f3c66868ceec4f8e2  24179216   \n",
              "10223  59272f14be7a09999905d4fa9c98cae7   7260188   \n",
              "10224  59272f14be7a09999905d4fa9c98cae7   6148028   \n",
              "10710  55de53160394d36f820e2772c542bdc4  10818853   \n",
              "...                                 ...       ...   \n",
              "43661  01ac61df8755dfef908abfe8205c3366  12341309   \n",
              "44384  9dbfb7edcb77f9759b83c36ab239a33b  16130549   \n",
              "46731  ff08c9f9be73017f38716368bdb9e202   7098304   \n",
              "46751  ff08c9f9be73017f38716368bdb9e202  16075836   \n",
              "49920  8aa57c0216a04cc33db6e16cfbebc4ae  16033902   \n",
              "\n",
              "                              review_id  \\\n",
              "9403   b534c9ec2e6c5a2e03ce1bbddbcf7dbc   \n",
              "9455   52f2cf514d81183e1100829a73fd3775   \n",
              "10223  6cbd479e65945663488650fb9315850c   \n",
              "10224  73c04addd52ba860f0c91cc5d6dc8ce4   \n",
              "10710  ff988c75a9afcd90f10eaf02574e34dd   \n",
              "...                                 ...   \n",
              "43661  3b3124617a61af405edfa53ea1fa9a07   \n",
              "44384  f631cb522628d39025cead8b77926fee   \n",
              "46731  9f19acde42a7fd2f86b13523b60362f8   \n",
              "46751  0dc47fc6cc5bc709e4dbf6c5b152766c   \n",
              "49920  3bbeddf247ecd1b02e509a344eb9f492   \n",
              "\n",
              "                                             review_text  \\\n",
              "9403                                           About 3.5   \n",
              "9455                                     2.5*'s from me.   \n",
              "10223  \"The damage, the fatigue, the imperfections. T...   \n",
              "10224  \"I didn't even know I was crushing it, but I g...   \n",
              "10710                                            ...why.   \n",
              "...                                                  ...   \n",
              "43661                           This just wasn't for me.   \n",
              "44384  \"He knew better, even then (he was possessed o...   \n",
              "46731                                More of the same...   \n",
              "46751  \"That's the whole point of life. To love someo...   \n",
              "49920                    It just didn't do it for me. :(   \n",
              "\n",
              "                           date_added                    date_updated  \\\n",
              "9403   Fri Oct 14 23:21:02 -0700 2016  Mon Sep 18 08:44:24 -0700 2017   \n",
              "9455   Mon Oct 05 13:24:06 -0700 2015  Sun Jan 15 12:43:21 -0800 2017   \n",
              "10223  Mon May 23 11:04:38 -0700 2011  Sun May 26 02:09:43 -0700 2013   \n",
              "10224  Thu May 19 14:40:21 -0700 2011  Sun May 26 02:09:53 -0700 2013   \n",
              "10710  Mon Jul 09 22:38:07 -0700 2012  Thu Oct 27 23:08:09 -0700 2016   \n",
              "...                               ...                             ...   \n",
              "43661  Fri Dec 28 14:40:13 -0800 2012  Sat Jan 12 17:28:37 -0800 2013   \n",
              "44384  Sat Mar 16 05:21:12 -0700 2013  Sat Oct 05 11:15:08 -0700 2013   \n",
              "46731  Tue Jan 29 21:06:20 -0800 2013  Fri May 06 10:33:30 -0700 2016   \n",
              "46751  Sun Jan 06 23:12:25 -0800 2013  Sat Feb 25 12:43:20 -0800 2017   \n",
              "49920  Mon Dec 09 08:11:19 -0800 2013  Mon Dec 09 08:11:50 -0800 2013   \n",
              "\n",
              "                              read_at                      started_at  \\\n",
              "9403   Sat Oct 15 23:21:40 -0700 2016  Sat Oct 15 00:00:00 -0700 2016   \n",
              "9455   Fri Feb 19 06:27:02 -0800 2016  Wed Feb 03 00:00:00 -0800 2016   \n",
              "10223  Mon May 23 00:00:00 -0700 2011  Mon May 23 00:00:00 -0700 2011   \n",
              "10224  Fri May 20 00:00:00 -0700 2011  Thu May 19 00:00:00 -0700 2011   \n",
              "10710  Fri Jul 13 09:45:11 -0700 2012  Mon Jul 09 00:00:00 -0700 2012   \n",
              "...                               ...                             ...   \n",
              "43661                             NaN                             NaN   \n",
              "44384  Sat Oct 05 11:15:08 -0700 2013  Fri Sep 27 00:00:00 -0700 2013   \n",
              "46731  Fri Jan 25 00:00:00 -0800 2013                             NaN   \n",
              "46751  Sat Feb 25 12:43:20 -0800 2017  Mon Feb 06 00:00:00 -0800 2017   \n",
              "49920  Fri Dec 06 00:00:00 -0800 2013                             NaN   \n",
              "\n",
              "       n_votes  n_comments  \n",
              "9403         0           0  \n",
              "9455         0           0  \n",
              "10223        0           0  \n",
              "10224        0           0  \n",
              "10710        0           0  \n",
              "...        ...         ...  \n",
              "43661        0           0  \n",
              "44384        1           0  \n",
              "46731        0           0  \n",
              "46751        0           0  \n",
              "49920        0           0  \n",
              "\n",
              "[96 rows x 10 columns]"
            ],
            "text/html": [
              "\n",
              "  <div id=\"df-aa7f586b-e10b-4670-a42b-b26870079ad4\">\n",
              "    <div class=\"colab-df-container\">\n",
              "      <div>\n",
              "<style scoped>\n",
              "    .dataframe tbody tr th:only-of-type {\n",
              "        vertical-align: middle;\n",
              "    }\n",
              "\n",
              "    .dataframe tbody tr th {\n",
              "        vertical-align: top;\n",
              "    }\n",
              "\n",
              "    .dataframe thead th {\n",
              "        text-align: right;\n",
              "    }\n",
              "</style>\n",
              "<table border=\"1\" class=\"dataframe\">\n",
              "  <thead>\n",
              "    <tr style=\"text-align: right;\">\n",
              "      <th></th>\n",
              "      <th>user_id</th>\n",
              "      <th>book_id</th>\n",
              "      <th>review_id</th>\n",
              "      <th>review_text</th>\n",
              "      <th>date_added</th>\n",
              "      <th>date_updated</th>\n",
              "      <th>read_at</th>\n",
              "      <th>started_at</th>\n",
              "      <th>n_votes</th>\n",
              "      <th>n_comments</th>\n",
              "    </tr>\n",
              "  </thead>\n",
              "  <tbody>\n",
              "    <tr>\n",
              "      <th>9403</th>\n",
              "      <td>3eb8ce35cf067c802f072fea8c313067</td>\n",
              "      <td>28597587</td>\n",
              "      <td>b534c9ec2e6c5a2e03ce1bbddbcf7dbc</td>\n",
              "      <td>About 3.5</td>\n",
              "      <td>Fri Oct 14 23:21:02 -0700 2016</td>\n",
              "      <td>Mon Sep 18 08:44:24 -0700 2017</td>\n",
              "      <td>Sat Oct 15 23:21:40 -0700 2016</td>\n",
              "      <td>Sat Oct 15 00:00:00 -0700 2016</td>\n",
              "      <td>0</td>\n",
              "      <td>0</td>\n",
              "    </tr>\n",
              "    <tr>\n",
              "      <th>9455</th>\n",
              "      <td>b8ae0af5695c263f3c66868ceec4f8e2</td>\n",
              "      <td>24179216</td>\n",
              "      <td>52f2cf514d81183e1100829a73fd3775</td>\n",
              "      <td>2.5*'s from me.</td>\n",
              "      <td>Mon Oct 05 13:24:06 -0700 2015</td>\n",
              "      <td>Sun Jan 15 12:43:21 -0800 2017</td>\n",
              "      <td>Fri Feb 19 06:27:02 -0800 2016</td>\n",
              "      <td>Wed Feb 03 00:00:00 -0800 2016</td>\n",
              "      <td>0</td>\n",
              "      <td>0</td>\n",
              "    </tr>\n",
              "    <tr>\n",
              "      <th>10223</th>\n",
              "      <td>59272f14be7a09999905d4fa9c98cae7</td>\n",
              "      <td>7260188</td>\n",
              "      <td>6cbd479e65945663488650fb9315850c</td>\n",
              "      <td>\"The damage, the fatigue, the imperfections. T...</td>\n",
              "      <td>Mon May 23 11:04:38 -0700 2011</td>\n",
              "      <td>Sun May 26 02:09:43 -0700 2013</td>\n",
              "      <td>Mon May 23 00:00:00 -0700 2011</td>\n",
              "      <td>Mon May 23 00:00:00 -0700 2011</td>\n",
              "      <td>0</td>\n",
              "      <td>0</td>\n",
              "    </tr>\n",
              "    <tr>\n",
              "      <th>10224</th>\n",
              "      <td>59272f14be7a09999905d4fa9c98cae7</td>\n",
              "      <td>6148028</td>\n",
              "      <td>73c04addd52ba860f0c91cc5d6dc8ce4</td>\n",
              "      <td>\"I didn't even know I was crushing it, but I g...</td>\n",
              "      <td>Thu May 19 14:40:21 -0700 2011</td>\n",
              "      <td>Sun May 26 02:09:53 -0700 2013</td>\n",
              "      <td>Fri May 20 00:00:00 -0700 2011</td>\n",
              "      <td>Thu May 19 00:00:00 -0700 2011</td>\n",
              "      <td>0</td>\n",
              "      <td>0</td>\n",
              "    </tr>\n",
              "    <tr>\n",
              "      <th>10710</th>\n",
              "      <td>55de53160394d36f820e2772c542bdc4</td>\n",
              "      <td>10818853</td>\n",
              "      <td>ff988c75a9afcd90f10eaf02574e34dd</td>\n",
              "      <td>...why.</td>\n",
              "      <td>Mon Jul 09 22:38:07 -0700 2012</td>\n",
              "      <td>Thu Oct 27 23:08:09 -0700 2016</td>\n",
              "      <td>Fri Jul 13 09:45:11 -0700 2012</td>\n",
              "      <td>Mon Jul 09 00:00:00 -0700 2012</td>\n",
              "      <td>0</td>\n",
              "      <td>0</td>\n",
              "    </tr>\n",
              "    <tr>\n",
              "      <th>...</th>\n",
              "      <td>...</td>\n",
              "      <td>...</td>\n",
              "      <td>...</td>\n",
              "      <td>...</td>\n",
              "      <td>...</td>\n",
              "      <td>...</td>\n",
              "      <td>...</td>\n",
              "      <td>...</td>\n",
              "      <td>...</td>\n",
              "      <td>...</td>\n",
              "    </tr>\n",
              "    <tr>\n",
              "      <th>43661</th>\n",
              "      <td>01ac61df8755dfef908abfe8205c3366</td>\n",
              "      <td>12341309</td>\n",
              "      <td>3b3124617a61af405edfa53ea1fa9a07</td>\n",
              "      <td>This just wasn't for me.</td>\n",
              "      <td>Fri Dec 28 14:40:13 -0800 2012</td>\n",
              "      <td>Sat Jan 12 17:28:37 -0800 2013</td>\n",
              "      <td>NaN</td>\n",
              "      <td>NaN</td>\n",
              "      <td>0</td>\n",
              "      <td>0</td>\n",
              "    </tr>\n",
              "    <tr>\n",
              "      <th>44384</th>\n",
              "      <td>9dbfb7edcb77f9759b83c36ab239a33b</td>\n",
              "      <td>16130549</td>\n",
              "      <td>f631cb522628d39025cead8b77926fee</td>\n",
              "      <td>\"He knew better, even then (he was possessed o...</td>\n",
              "      <td>Sat Mar 16 05:21:12 -0700 2013</td>\n",
              "      <td>Sat Oct 05 11:15:08 -0700 2013</td>\n",
              "      <td>Sat Oct 05 11:15:08 -0700 2013</td>\n",
              "      <td>Fri Sep 27 00:00:00 -0700 2013</td>\n",
              "      <td>1</td>\n",
              "      <td>0</td>\n",
              "    </tr>\n",
              "    <tr>\n",
              "      <th>46731</th>\n",
              "      <td>ff08c9f9be73017f38716368bdb9e202</td>\n",
              "      <td>7098304</td>\n",
              "      <td>9f19acde42a7fd2f86b13523b60362f8</td>\n",
              "      <td>More of the same...</td>\n",
              "      <td>Tue Jan 29 21:06:20 -0800 2013</td>\n",
              "      <td>Fri May 06 10:33:30 -0700 2016</td>\n",
              "      <td>Fri Jan 25 00:00:00 -0800 2013</td>\n",
              "      <td>NaN</td>\n",
              "      <td>0</td>\n",
              "      <td>0</td>\n",
              "    </tr>\n",
              "    <tr>\n",
              "      <th>46751</th>\n",
              "      <td>ff08c9f9be73017f38716368bdb9e202</td>\n",
              "      <td>16075836</td>\n",
              "      <td>0dc47fc6cc5bc709e4dbf6c5b152766c</td>\n",
              "      <td>\"That's the whole point of life. To love someo...</td>\n",
              "      <td>Sun Jan 06 23:12:25 -0800 2013</td>\n",
              "      <td>Sat Feb 25 12:43:20 -0800 2017</td>\n",
              "      <td>Sat Feb 25 12:43:20 -0800 2017</td>\n",
              "      <td>Mon Feb 06 00:00:00 -0800 2017</td>\n",
              "      <td>0</td>\n",
              "      <td>0</td>\n",
              "    </tr>\n",
              "    <tr>\n",
              "      <th>49920</th>\n",
              "      <td>8aa57c0216a04cc33db6e16cfbebc4ae</td>\n",
              "      <td>16033902</td>\n",
              "      <td>3bbeddf247ecd1b02e509a344eb9f492</td>\n",
              "      <td>It just didn't do it for me. :(</td>\n",
              "      <td>Mon Dec 09 08:11:19 -0800 2013</td>\n",
              "      <td>Mon Dec 09 08:11:50 -0800 2013</td>\n",
              "      <td>Fri Dec 06 00:00:00 -0800 2013</td>\n",
              "      <td>NaN</td>\n",
              "      <td>0</td>\n",
              "      <td>0</td>\n",
              "    </tr>\n",
              "  </tbody>\n",
              "</table>\n",
              "<p>96 rows × 10 columns</p>\n",
              "</div>\n",
              "      <button class=\"colab-df-convert\" onclick=\"convertToInteractive('df-aa7f586b-e10b-4670-a42b-b26870079ad4')\"\n",
              "              title=\"Convert this dataframe to an interactive table.\"\n",
              "              style=\"display:none;\">\n",
              "        \n",
              "  <svg xmlns=\"http://www.w3.org/2000/svg\" height=\"24px\"viewBox=\"0 0 24 24\"\n",
              "       width=\"24px\">\n",
              "    <path d=\"M0 0h24v24H0V0z\" fill=\"none\"/>\n",
              "    <path d=\"M18.56 5.44l.94 2.06.94-2.06 2.06-.94-2.06-.94-.94-2.06-.94 2.06-2.06.94zm-11 1L8.5 8.5l.94-2.06 2.06-.94-2.06-.94L8.5 2.5l-.94 2.06-2.06.94zm10 10l.94 2.06.94-2.06 2.06-.94-2.06-.94-.94-2.06-.94 2.06-2.06.94z\"/><path d=\"M17.41 7.96l-1.37-1.37c-.4-.4-.92-.59-1.43-.59-.52 0-1.04.2-1.43.59L10.3 9.45l-7.72 7.72c-.78.78-.78 2.05 0 2.83L4 21.41c.39.39.9.59 1.41.59.51 0 1.02-.2 1.41-.59l7.78-7.78 2.81-2.81c.8-.78.8-2.07 0-2.86zM5.41 20L4 18.59l7.72-7.72 1.47 1.35L5.41 20z\"/>\n",
              "  </svg>\n",
              "      </button>\n",
              "      \n",
              "  <style>\n",
              "    .colab-df-container {\n",
              "      display:flex;\n",
              "      flex-wrap:wrap;\n",
              "      gap: 12px;\n",
              "    }\n",
              "\n",
              "    .colab-df-convert {\n",
              "      background-color: #E8F0FE;\n",
              "      border: none;\n",
              "      border-radius: 50%;\n",
              "      cursor: pointer;\n",
              "      display: none;\n",
              "      fill: #1967D2;\n",
              "      height: 32px;\n",
              "      padding: 0 0 0 0;\n",
              "      width: 32px;\n",
              "    }\n",
              "\n",
              "    .colab-df-convert:hover {\n",
              "      background-color: #E2EBFA;\n",
              "      box-shadow: 0px 1px 2px rgba(60, 64, 67, 0.3), 0px 1px 3px 1px rgba(60, 64, 67, 0.15);\n",
              "      fill: #174EA6;\n",
              "    }\n",
              "\n",
              "    [theme=dark] .colab-df-convert {\n",
              "      background-color: #3B4455;\n",
              "      fill: #D2E3FC;\n",
              "    }\n",
              "\n",
              "    [theme=dark] .colab-df-convert:hover {\n",
              "      background-color: #434B5C;\n",
              "      box-shadow: 0px 1px 3px 1px rgba(0, 0, 0, 0.15);\n",
              "      filter: drop-shadow(0px 1px 2px rgba(0, 0, 0, 0.3));\n",
              "      fill: #FFFFFF;\n",
              "    }\n",
              "  </style>\n",
              "\n",
              "      <script>\n",
              "        const buttonEl =\n",
              "          document.querySelector('#df-aa7f586b-e10b-4670-a42b-b26870079ad4 button.colab-df-convert');\n",
              "        buttonEl.style.display =\n",
              "          google.colab.kernel.accessAllowed ? 'block' : 'none';\n",
              "\n",
              "        async function convertToInteractive(key) {\n",
              "          const element = document.querySelector('#df-aa7f586b-e10b-4670-a42b-b26870079ad4');\n",
              "          const dataTable =\n",
              "            await google.colab.kernel.invokeFunction('convertToInteractive',\n",
              "                                                     [key], {});\n",
              "          if (!dataTable) return;\n",
              "\n",
              "          const docLinkHtml = 'Like what you see? Visit the ' +\n",
              "            '<a target=\"_blank\" href=https://colab.research.google.com/notebooks/data_table.ipynb>data table notebook</a>'\n",
              "            + ' to learn more about interactive tables.';\n",
              "          element.innerHTML = '';\n",
              "          dataTable['output_type'] = 'display_data';\n",
              "          await google.colab.output.renderOutput(dataTable, element);\n",
              "          const docLink = document.createElement('div');\n",
              "          docLink.innerHTML = docLinkHtml;\n",
              "          element.appendChild(docLink);\n",
              "        }\n",
              "      </script>\n",
              "    </div>\n",
              "  </div>\n",
              "  "
            ]
          },
          "metadata": {},
          "execution_count": 25
        }
      ]
    },
    {
      "cell_type": "markdown",
      "source": [
        "LEMETIZATION\n"
      ],
      "metadata": {
        "id": "lHxEHYiyIpNl"
      }
    },
    {
      "cell_type": "code",
      "source": [
        "from nltk.stem import WordNetLemmatizer\n",
        "wordnet_lemmatizer = WordNetLemmatizer()\n",
        "\n",
        "def lemmatization(text):\n",
        "    return ' '.join(wordnet_lemmatizer.lemmatize(word) for word in text.split()) # all words are considered as noun"
      ],
      "metadata": {
        "id": "zqYuHFe9IrRv"
      },
      "execution_count": 26,
      "outputs": []
    },
    {
      "cell_type": "code",
      "source": [
        "import nltk\n",
        "nltk.download('wordnet')\n",
        "common_df = common_df.apply(lemmatization)\n"
      ],
      "metadata": {
        "colab": {
          "base_uri": "https://localhost:8080/"
        },
        "id": "ZNY7pLikIt4K",
        "outputId": "60b1019b-3c09-41c3-8322-5e6fad031799"
      },
      "execution_count": 27,
      "outputs": [
        {
          "output_type": "stream",
          "name": "stderr",
          "text": [
            "[nltk_data] Downloading package wordnet to /root/nltk_data...\n"
          ]
        }
      ]
    },
    {
      "cell_type": "code",
      "source": [
        "common_df[10]\n"
      ],
      "metadata": {
        "colab": {
          "base_uri": "https://localhost:8080/",
          "height": 88
        },
        "id": "riWYaekhIuXN",
        "outputId": "0250e017-2062-4ba1-a705-5d6c989f7786"
      },
      "execution_count": 28,
      "outputs": [
        {
          "output_type": "execute_result",
          "data": {
            "text/plain": [
              "'beautiful story neil gaiman truly unique storyteller combo reading listening story neil great reading well got interested book seeing movie really enjoyed book similar maybe bit poetic think plot movie bit improved much bit imagine book came neil read poem includes beginning invented plot around result book read like epic poem creative magical really right go catch falling star get child mandrake root tell past year cleft devil foot teach hear mermaid singing keep envy stinging find wind serf advance honest mind thou st born strange sight thing invisible see ride ten thousand day night till age snow white hair'"
            ],
            "application/vnd.google.colaboratory.intrinsic+json": {
              "type": "string"
            }
          },
          "metadata": {},
          "execution_count": 28
        }
      ]
    },
    {
      "cell_type": "code",
      "source": [
        "import tensorflow as tf\n",
        "from tensorflow.keras.utils import to_categorical\n",
        "\n",
        "y = to_categorical(train_df['rating'])\n",
        "y.shape\n"
      ],
      "metadata": {
        "colab": {
          "base_uri": "https://localhost:8080/"
        },
        "id": "88fvNCofJJoM",
        "outputId": "466b452b-876a-4940-a667-3bb9aa91766b"
      },
      "execution_count": 29,
      "outputs": [
        {
          "output_type": "execute_result",
          "data": {
            "text/plain": [
              "(100000, 6)"
            ]
          },
          "metadata": {},
          "execution_count": 29
        }
      ]
    },
    {
      "cell_type": "code",
      "source": [
        "train_df['rating'].unique()"
      ],
      "metadata": {
        "colab": {
          "base_uri": "https://localhost:8080/"
        },
        "id": "8zDFcNSwJLzL",
        "outputId": "724c524a-a047-4cd0-88da-1d3a0cb7477b"
      },
      "execution_count": 30,
      "outputs": [
        {
          "output_type": "execute_result",
          "data": {
            "text/plain": [
              "array([5, 3, 0, 4, 2, 1])"
            ]
          },
          "metadata": {},
          "execution_count": 30
        }
      ]
    },
    {
      "cell_type": "markdown",
      "source": [
        "SPLIT DATASET INTO TRAIN AND TEST"
      ],
      "metadata": {
        "id": "-B8ww8rYJPV-"
      }
    },
    {
      "cell_type": "code",
      "source": [
        "X = common_df.iloc[:y.shape[0]]\n",
        "X_test = common_df.iloc[y.shape[0]:]\n"
      ],
      "metadata": {
        "id": "Me0wfFSxJSWb"
      },
      "execution_count": 31,
      "outputs": []
    },
    {
      "cell_type": "code",
      "source": [
        "from sklearn.model_selection import train_test_split\n",
        "\n",
        "X_train, X_val, y_train, y_val = train_test_split(X, y, test_size = 0.15, random_state = 42)\n"
      ],
      "metadata": {
        "id": "Bsa1q23ZJU0Y"
      },
      "execution_count": 32,
      "outputs": []
    },
    {
      "cell_type": "code",
      "source": [
        "X_train.head()"
      ],
      "metadata": {
        "colab": {
          "base_uri": "https://localhost:8080/"
        },
        "id": "jGYbzw5_MCy_",
        "outputId": "2f26f129-9af5-4ea2-ac45-a91991579456"
      },
      "execution_count": 33,
      "outputs": [
        {
          "output_type": "execute_result",
          "data": {
            "text/plain": [
              "71584    ever want life kate bishop clint barton gettin...\n",
              "98962    wow story really grew first rolled eye sighed ...\n",
              "74509    always interesting go back read original sourc...\n",
              "86798    book lately cant seem find one keep started st...\n",
              "54930    got star amazing expect plot twist loved paul ...\n",
              "Name: review_text, dtype: object"
            ]
          },
          "metadata": {},
          "execution_count": 33
        }
      ]
    },
    {
      "cell_type": "code",
      "source": [
        "y_train[:5]"
      ],
      "metadata": {
        "colab": {
          "base_uri": "https://localhost:8080/"
        },
        "id": "LnuYGJmAMLH4",
        "outputId": "8ca17448-74ba-4653-8e91-e1d96ae88f78"
      },
      "execution_count": 34,
      "outputs": [
        {
          "output_type": "execute_result",
          "data": {
            "text/plain": [
              "array([[0., 0., 0., 0., 0., 1.],\n",
              "       [0., 0., 0., 0., 1., 0.],\n",
              "       [0., 0., 0., 0., 0., 1.],\n",
              "       [0., 0., 1., 0., 0., 0.],\n",
              "       [0., 0., 0., 0., 0., 1.]], dtype=float32)"
            ]
          },
          "metadata": {},
          "execution_count": 34
        }
      ]
    },
    {
      "cell_type": "markdown",
      "source": [
        "LSTM\n"
      ],
      "metadata": {
        "id": "rdUbetYziIJn"
      }
    },
    {
      "cell_type": "code",
      "source": [
        "#tokensization\n",
        "from tensorflow.keras.preprocessing.text import Tokenizer\n",
        "from tensorflow.keras.preprocessing.sequence import pad_sequences"
      ],
      "metadata": {
        "id": "n9-ukAzOMU32"
      },
      "execution_count": 35,
      "outputs": []
    },
    {
      "cell_type": "code",
      "source": [
        "tokenizer = Tokenizer()\n",
        "tokenizer.fit_on_texts(X_train) # fit tokenizer only on train data\n",
        "\n",
        "vocab_size = len(tokenizer.word_index)\n",
        "vocab_size"
      ],
      "metadata": {
        "colab": {
          "base_uri": "https://localhost:8080/"
        },
        "id": "nE_-GeliNA6R",
        "outputId": "089caf1b-3fe8-4cfe-cbba-acd0dec58b93"
      },
      "execution_count": 36,
      "outputs": [
        {
          "output_type": "execute_result",
          "data": {
            "text/plain": [
              "65747"
            ]
          },
          "metadata": {},
          "execution_count": 36
        }
      ]
    },
    {
      "cell_type": "code",
      "source": [
        "train_sequence = tokenizer.texts_to_sequences(X_train)\n",
        "train_sequence = pad_sequences(train_sequence, maxlen = MAX_LEN, padding = 'post')\n",
        "\n",
        "val_sequence = tokenizer.texts_to_sequences(X_val)\n",
        "val_sequence = pad_sequences(val_sequence, maxlen = MAX_LEN, padding = 'post')\n",
        "\n",
        "test_sequence = tokenizer.texts_to_sequences(X_test)\n",
        "test_sequence = pad_sequences(test_sequence, maxlen = MAX_LEN, padding = 'post')"
      ],
      "metadata": {
        "id": "kjuMzVdoNEJE"
      },
      "execution_count": 37,
      "outputs": []
    },
    {
      "cell_type": "code",
      "source": [
        "from tensorflow.keras import Sequential\n",
        "from tensorflow.keras.layers import Dense, SpatialDropout1D, LSTM, Embedding"
      ],
      "metadata": {
        "id": "hvlEXHW1NKhf"
      },
      "execution_count": 38,
      "outputs": []
    },
    {
      "cell_type": "code",
      "source": [
        "from tensorflow.keras.callbacks import EarlyStopping, ReduceLROnPlateau"
      ],
      "metadata": {
        "id": "aSxr_KMJPOOH"
      },
      "execution_count": 39,
      "outputs": []
    },
    {
      "cell_type": "code",
      "source": [
        "early_stop = EarlyStopping(patience = 4, restore_best_weights = True, verbose = 1) # val_loss\n",
        "reduce_lr = ReduceLROnPlateau(factor = 0.1, patience = 2, mode = 'min', verbose = 1) # val_loss"
      ],
      "metadata": {
        "id": "C17iMBiKRwCj"
      },
      "execution_count": 40,
      "outputs": []
    },
    {
      "cell_type": "code",
      "source": [
        "model=Sequential()\n",
        "model.add(Embedding(vocab_size + 1, 50, input_length = MAX_LEN))\n",
        "model.add(SpatialDropout1D(0.2))\n",
        "model.add(LSTM(100,dropout=0.2,recurrent_dropout=0.2))\n",
        "model.add(Dense(6,activation='softmax'))\n",
        "model.compile(loss='categorical_crossentropy',optimizer='adam',metrics=['accuracy'])\n",
        "model.summary()"
      ],
      "metadata": {
        "colab": {
          "base_uri": "https://localhost:8080/"
        },
        "id": "FSSwMeq7ODIu",
        "outputId": "0857a04f-0e57-47ac-dee5-d4ba9f8f97b7"
      },
      "execution_count": 41,
      "outputs": [
        {
          "output_type": "stream",
          "name": "stdout",
          "text": [
            "Model: \"sequential\"\n",
            "_________________________________________________________________\n",
            " Layer (type)                Output Shape              Param #   \n",
            "=================================================================\n",
            " embedding (Embedding)       (None, 100, 50)           3287400   \n",
            "                                                                 \n",
            " spatial_dropout1d (SpatialD  (None, 100, 50)          0         \n",
            " ropout1D)                                                       \n",
            "                                                                 \n",
            " lstm (LSTM)                 (None, 100)               60400     \n",
            "                                                                 \n",
            " dense (Dense)               (None, 6)                 606       \n",
            "                                                                 \n",
            "=================================================================\n",
            "Total params: 3,348,406\n",
            "Trainable params: 3,348,406\n",
            "Non-trainable params: 0\n",
            "_________________________________________________________________\n"
          ]
        }
      ]
    },
    {
      "cell_type": "code",
      "source": [
        "# fit the model\n",
        "history = model.fit(train_sequence, \n",
        "                    y_train, \n",
        "                    batch_size = 64,\n",
        "                    epochs = 7,\n",
        "                    verbose = 1,\n",
        "                    validation_data = (val_sequence, y_val),\n",
        "                    callbacks = [reduce_lr, early_stop])"
      ],
      "metadata": {
        "colab": {
          "base_uri": "https://localhost:8080/"
        },
        "id": "O2OZJJkiR-HQ",
        "outputId": "8362a632-bced-4fc6-c6c0-0923f6db01a9"
      },
      "execution_count": 43,
      "outputs": [
        {
          "output_type": "stream",
          "name": "stdout",
          "text": [
            "Epoch 1/7\n",
            "1329/1329 [==============================] - 426s 321ms/step - loss: 1.3220 - accuracy: 0.4243 - val_loss: 1.3458 - val_accuracy: 0.3907 - lr: 0.0010\n",
            "Epoch 2/7\n",
            "1329/1329 [==============================] - 421s 317ms/step - loss: 1.2075 - accuracy: 0.4892 - val_loss: 1.2435 - val_accuracy: 0.4724 - lr: 0.0010\n",
            "Epoch 3/7\n",
            "1329/1329 [==============================] - 419s 315ms/step - loss: 1.1132 - accuracy: 0.5388 - val_loss: 1.2441 - val_accuracy: 0.4776 - lr: 0.0010\n",
            "Epoch 4/7\n",
            "1329/1329 [==============================] - 420s 316ms/step - loss: 1.0462 - accuracy: 0.5729 - val_loss: 1.2375 - val_accuracy: 0.4869 - lr: 0.0010\n",
            "Epoch 5/7\n",
            "1329/1329 [==============================] - 416s 313ms/step - loss: 0.9578 - accuracy: 0.6125 - val_loss: 1.2548 - val_accuracy: 0.4837 - lr: 0.0010\n",
            "Epoch 6/7\n",
            "1329/1329 [==============================] - ETA: 0s - loss: 0.8782 - accuracy: 0.6513\n",
            "Epoch 6: ReduceLROnPlateau reducing learning rate to 0.00010000000474974513.\n",
            "1329/1329 [==============================] - 416s 313ms/step - loss: 0.8782 - accuracy: 0.6513 - val_loss: 1.3092 - val_accuracy: 0.4795 - lr: 0.0010\n",
            "Epoch 7/7\n",
            "1329/1329 [==============================] - 418s 315ms/step - loss: 0.7726 - accuracy: 0.7027 - val_loss: 1.3869 - val_accuracy: 0.4857 - lr: 1.0000e-04\n"
          ]
        }
      ]
    },
    {
      "cell_type": "code",
      "source": [
        "loss = history.history['loss']\n",
        "acc = history.history['accuracy']\n",
        "val_loss = history.history['val_loss']\n",
        "val_acc = history.history['val_accuracy']\n",
        "\n",
        "epochs = range(1, len(loss) + 1)\n",
        "plt.title(\"LSTM Model Results\")\n",
        "plt.figure(figsize=(16, 5))\n",
        "#accuracy\n",
        "plt.subplot(1,2,1)\n",
        "plt.plot(epochs, acc, 'bo', label = 'Training accuracy')\n",
        "plt.plot(epochs, val_acc, 'r', label = 'Validation accuracy')\n",
        "plt.legend()\n",
        "\n",
        "#loss\n",
        "plt.subplot(1,2,2)\n",
        "plt.plot(epochs, loss, 'bo', label = 'Trainig loss')\n",
        "plt.plot(epochs, val_loss, 'r', label = 'Validation loss')\n",
        "plt.legend()\n",
        "\n",
        "plt.show()"
      ],
      "metadata": {
        "id": "_FQryqG91h2D",
        "colab": {
          "base_uri": "https://localhost:8080/",
          "height": 320
        },
        "outputId": "e3b5e512-36fa-4fe0-f338-23ff66d27028"
      },
      "execution_count": 44,
      "outputs": [
        {
          "output_type": "display_data",
          "data": {
            "text/plain": [
              "<Figure size 1152x360 with 2 Axes>"
            ],
            "image/png": "[encoded data removed]"
          },
          "metadata": {
            "needs_background": "light"
          }
        }
      ]
    },
    {
      "cell_type": "code",
      "source": [
        "sub = pd.DataFrame()\n",
        "sub['review_text'] = test_df.review_text\n",
        "sub['rating'] = [np.argmax(i) for i in model.predict(test_sequence)]\n",
        "sub.head()"
      ],
      "metadata": {
        "id": "Y05fp8qv1ur5",
        "colab": {
          "base_uri": "https://localhost:8080/",
          "height": 223
        },
        "outputId": "50c87452-1884-4d2f-f851-ecbd7af9161d"
      },
      "execution_count": 45,
      "outputs": [
        {
          "output_type": "stream",
          "name": "stdout",
          "text": [
            "1563/1563 [==============================] - 61s 39ms/step\n"
          ]
        },
        {
          "output_type": "execute_result",
          "data": {
            "text/plain": [
              "                                         review_text  rating\n",
              "0  ** spoiler alert ** \\n This is definitely one ...       4\n",
              "1  ** spoiler alert ** \\n \"You are what you drink...       3\n",
              "2  Roar is one of my favorite characters in Under...       4\n",
              "3  ** spoiler alert ** \\n If you feel like travel...       3\n",
              "4  3.5 stars \\n I read and enjoyed the first two ...       4"
            ],
            "text/html": [
              "\n",
              "  <div id=\"df-c0bded24-4e82-4f80-901a-5e00512f15fa\">\n",
              "    <div class=\"colab-df-container\">\n",
              "      <div>\n",
              "<style scoped>\n",
              "    .dataframe tbody tr th:only-of-type {\n",
              "        vertical-align: middle;\n",
              "    }\n",
              "\n",
              "    .dataframe tbody tr th {\n",
              "        vertical-align: top;\n",
              "    }\n",
              "\n",
              "    .dataframe thead th {\n",
              "        text-align: right;\n",
              "    }\n",
              "</style>\n",
              "<table border=\"1\" class=\"dataframe\">\n",
              "  <thead>\n",
              "    <tr style=\"text-align: right;\">\n",
              "      <th></th>\n",
              "      <th>review_text</th>\n",
              "      <th>rating</th>\n",
              "    </tr>\n",
              "  </thead>\n",
              "  <tbody>\n",
              "    <tr>\n",
              "      <th>0</th>\n",
              "      <td>** spoiler alert ** \\n This is definitely one ...</td>\n",
              "      <td>4</td>\n",
              "    </tr>\n",
              "    <tr>\n",
              "      <th>1</th>\n",
              "      <td>** spoiler alert ** \\n \"You are what you drink...</td>\n",
              "      <td>3</td>\n",
              "    </tr>\n",
              "    <tr>\n",
              "      <th>2</th>\n",
              "      <td>Roar is one of my favorite characters in Under...</td>\n",
              "      <td>4</td>\n",
              "    </tr>\n",
              "    <tr>\n",
              "      <th>3</th>\n",
              "      <td>** spoiler alert ** \\n If you feel like travel...</td>\n",
              "      <td>3</td>\n",
              "    </tr>\n",
              "    <tr>\n",
              "      <th>4</th>\n",
              "      <td>3.5 stars \\n I read and enjoyed the first two ...</td>\n",
              "      <td>4</td>\n",
              "    </tr>\n",
              "  </tbody>\n",
              "</table>\n",
              "</div>\n",
              "      <button class=\"colab-df-convert\" onclick=\"convertToInteractive('df-c0bded24-4e82-4f80-901a-5e00512f15fa')\"\n",
              "              title=\"Convert this dataframe to an interactive table.\"\n",
              "              style=\"display:none;\">\n",
              "        \n",
              "  <svg xmlns=\"http://www.w3.org/2000/svg\" height=\"24px\"viewBox=\"0 0 24 24\"\n",
              "       width=\"24px\">\n",
              "    <path d=\"M0 0h24v24H0V0z\" fill=\"none\"/>\n",
              "    <path d=\"M18.56 5.44l.94 2.06.94-2.06 2.06-.94-2.06-.94-.94-2.06-.94 2.06-2.06.94zm-11 1L8.5 8.5l.94-2.06 2.06-.94-2.06-.94L8.5 2.5l-.94 2.06-2.06.94zm10 10l.94 2.06.94-2.06 2.06-.94-2.06-.94-.94-2.06-.94 2.06-2.06.94z\"/><path d=\"M17.41 7.96l-1.37-1.37c-.4-.4-.92-.59-1.43-.59-.52 0-1.04.2-1.43.59L10.3 9.45l-7.72 7.72c-.78.78-.78 2.05 0 2.83L4 21.41c.39.39.9.59 1.41.59.51 0 1.02-.2 1.41-.59l7.78-7.78 2.81-2.81c.8-.78.8-2.07 0-2.86zM5.41 20L4 18.59l7.72-7.72 1.47 1.35L5.41 20z\"/>\n",
              "  </svg>\n",
              "      </button>\n",
              "      \n",
              "  <style>\n",
              "    .colab-df-container {\n",
              "      display:flex;\n",
              "      flex-wrap:wrap;\n",
              "      gap: 12px;\n",
              "    }\n",
              "\n",
              "    .colab-df-convert {\n",
              "      background-color: #E8F0FE;\n",
              "      border: none;\n",
              "      border-radius: 50%;\n",
              "      cursor: pointer;\n",
              "      display: none;\n",
              "      fill: #1967D2;\n",
              "      height: 32px;\n",
              "      padding: 0 0 0 0;\n",
              "      width: 32px;\n",
              "    }\n",
              "\n",
              "    .colab-df-convert:hover {\n",
              "      background-color: #E2EBFA;\n",
              "      box-shadow: 0px 1px 2px rgba(60, 64, 67, 0.3), 0px 1px 3px 1px rgba(60, 64, 67, 0.15);\n",
              "      fill: #174EA6;\n",
              "    }\n",
              "\n",
              "    [theme=dark] .colab-df-convert {\n",
              "      background-color: #3B4455;\n",
              "      fill: #D2E3FC;\n",
              "    }\n",
              "\n",
              "    [theme=dark] .colab-df-convert:hover {\n",
              "      background-color: #434B5C;\n",
              "      box-shadow: 0px 1px 3px 1px rgba(0, 0, 0, 0.15);\n",
              "      filter: drop-shadow(0px 1px 2px rgba(0, 0, 0, 0.3));\n",
              "      fill: #FFFFFF;\n",
              "    }\n",
              "  </style>\n",
              "\n",
              "      <script>\n",
              "        const buttonEl =\n",
              "          document.querySelector('#df-c0bded24-4e82-4f80-901a-5e00512f15fa button.colab-df-convert');\n",
              "        buttonEl.style.display =\n",
              "          google.colab.kernel.accessAllowed ? 'block' : 'none';\n",
              "\n",
              "        async function convertToInteractive(key) {\n",
              "          const element = document.querySelector('#df-c0bded24-4e82-4f80-901a-5e00512f15fa');\n",
              "          const dataTable =\n",
              "            await google.colab.kernel.invokeFunction('convertToInteractive',\n",
              "                                                     [key], {});\n",
              "          if (!dataTable) return;\n",
              "\n",
              "          const docLinkHtml = 'Like what you see? Visit the ' +\n",
              "            '<a target=\"_blank\" href=https://colab.research.google.com/notebooks/data_table.ipynb>data table notebook</a>'\n",
              "            + ' to learn more about interactive tables.';\n",
              "          element.innerHTML = '';\n",
              "          dataTable['output_type'] = 'display_data';\n",
              "          await google.colab.output.renderOutput(dataTable, element);\n",
              "          const docLink = document.createElement('div');\n",
              "          docLink.innerHTML = docLinkHtml;\n",
              "          element.appendChild(docLink);\n",
              "        }\n",
              "      </script>\n",
              "    </div>\n",
              "  </div>\n",
              "  "
            ]
          },
          "metadata": {},
          "execution_count": 45
        }
      ]
    },
    {
      "cell_type": "code",
      "source": [
        "import tensorflow as tf\n",
        "from tensorflow import keras\n",
        "from keras.callbacks import EarlyStopping, ReduceLROnPlateau\n",
        "from tensorflow.keras.optimizers import Adam , Adagrad, SGD, RMSprop\n",
        "from keras.layers import Dense, Dropout, BatchNormalization, SimpleRNN, Activation, LSTM, Bidirectional\n",
        "from tensorflow.keras.models import Sequential\n",
        "from keras.wrappers.scikit_learn import KerasClassifier\n",
        "\n",
        "from sklearn.metrics import classification_report, confusion_matrix, f1_score, accuracy_score"
      ],
      "metadata": {
        "id": "SXe53PzM9JsQ"
      },
      "execution_count": 46,
      "outputs": []
    },
    {
      "cell_type": "markdown",
      "source": [
        "SIMPLE RNN\n"
      ],
      "metadata": {
        "id": "6essAzSEAYkn"
      }
    },
    {
      "cell_type": "code",
      "source": [
        "model2=Sequential()\n",
        "model2.add(Embedding(vocab_size + 1, 50, input_length = MAX_LEN))\n",
        "model2.add(SpatialDropout1D(0.2))\n",
        "model2.add(SimpleRNN(100,dropout=0.2,recurrent_dropout=0.2))\n",
        "model2.add(Dense(6,activation='softmax'))\n",
        "model2.compile(loss='categorical_crossentropy',optimizer='adam',metrics=['accuracy'])\n",
        "model2.summary()"
      ],
      "metadata": {
        "id": "PrB-DdBe8yIf",
        "colab": {
          "base_uri": "https://localhost:8080/"
        },
        "outputId": "3249cd90-2c69-4855-9b05-ab3706aadcd7"
      },
      "execution_count": 47,
      "outputs": [
        {
          "output_type": "stream",
          "name": "stdout",
          "text": [
            "Model: \"sequential_1\"\n",
            "_________________________________________________________________\n",
            " Layer (type)                Output Shape              Param #   \n",
            "=================================================================\n",
            " embedding_1 (Embedding)     (None, 100, 50)           3287400   \n",
            "                                                                 \n",
            " spatial_dropout1d_1 (Spatia  (None, 100, 50)          0         \n",
            " lDropout1D)                                                     \n",
            "                                                                 \n",
            " simple_rnn (SimpleRNN)      (None, 100)               15100     \n",
            "                                                                 \n",
            " dense_1 (Dense)             (None, 6)                 606       \n",
            "                                                                 \n",
            "=================================================================\n",
            "Total params: 3,303,106\n",
            "Trainable params: 3,303,106\n",
            "Non-trainable params: 0\n",
            "_________________________________________________________________\n"
          ]
        }
      ]
    },
    {
      "cell_type": "code",
      "source": [
        "# fit the model\n",
        "history1 = model2.fit(train_sequence, \n",
        "                    y_train, \n",
        "                    batch_size = 64,\n",
        "                    epochs = 5,\n",
        "                    verbose = 1,\n",
        "                    validation_data = (val_sequence, y_val),\n",
        "                    callbacks = [reduce_lr, early_stop])"
      ],
      "metadata": {
        "id": "7Wu0YSoc_wHz",
        "colab": {
          "base_uri": "https://localhost:8080/"
        },
        "outputId": "205f2c9d-63fd-41e4-96e3-9220439ac073"
      },
      "execution_count": 48,
      "outputs": [
        {
          "output_type": "stream",
          "name": "stdout",
          "text": [
            "Epoch 1/5\n",
            "1329/1329 [==============================] - 151s 112ms/step - loss: 1.4983 - accuracy: 0.3353 - val_loss: 1.4786 - val_accuracy: 0.3513 - lr: 0.0010\n",
            "Epoch 2/5\n",
            "1329/1329 [==============================] - 148s 111ms/step - loss: 1.4722 - accuracy: 0.3445 - val_loss: 1.4693 - val_accuracy: 0.3513 - lr: 0.0010\n",
            "Epoch 3/5\n",
            "1329/1329 [==============================] - 145s 109ms/step - loss: 1.4625 - accuracy: 0.3562 - val_loss: 1.4752 - val_accuracy: 0.3104 - lr: 0.0010\n",
            "Epoch 4/5\n",
            "1329/1329 [==============================] - ETA: 0s - loss: 1.4289 - accuracy: 0.3812\n",
            "Epoch 4: ReduceLROnPlateau reducing learning rate to 0.00010000000474974513.\n",
            "1329/1329 [==============================] - 145s 109ms/step - loss: 1.4289 - accuracy: 0.3812 - val_loss: 1.4763 - val_accuracy: 0.3434 - lr: 0.0010\n",
            "Epoch 5/5\n",
            "1329/1329 [==============================] - 145s 109ms/step - loss: 1.3573 - accuracy: 0.4205 - val_loss: 1.4630 - val_accuracy: 0.3538 - lr: 1.0000e-04\n"
          ]
        }
      ]
    },
    {
      "cell_type": "code",
      "source": [
        "loss = history1.history['loss']\n",
        "acc = history1.history['accuracy']\n",
        "val_loss = history1.history['val_loss']\n",
        "val_acc = history1.history['val_accuracy']\n",
        "\n",
        "epochs = range(1, len(loss) + 1)\n",
        "\n",
        "plt.figure(figsize=(16, 5))\n",
        "#accuracy\n",
        "plt.title(\"SimpleRNN Model Results\")\n",
        "plt.subplot(1,2,1)\n",
        "plt.plot(epochs, acc, 'bo', label = 'Training accuracy')\n",
        "plt.plot(epochs, val_acc, 'r', label = 'Validation accuracy')\n",
        "plt.legend()\n",
        "\n",
        "#loss\n",
        "plt.subplot(1,2,2)\n",
        "plt.plot(epochs, loss, 'bo', label = 'Trainig loss')\n",
        "plt.plot(epochs, val_loss, 'r', label = 'Validation loss')\n",
        "plt.legend()\n",
        "\n",
        "plt.show()"
      ],
      "metadata": {
        "colab": {
          "base_uri": "https://localhost:8080/",
          "height": 320
        },
        "id": "6ZrbBIvGdKFT",
        "outputId": "51281274-db44-4093-b388-fb152cf6b6a1"
      },
      "execution_count": 51,
      "outputs": [
        {
          "output_type": "display_data",
          "data": {
            "text/plain": [
              "<Figure size 1152x360 with 2 Axes>"
            ],
            "image/png": "[encoded data removed]"
          },
          "metadata": {
            "needs_background": "light"
          }
        }
      ]
    },
    {
      "cell_type": "markdown",
      "source": [
        "BIDIRECTIONAL LSTM"
      ],
      "metadata": {
        "id": "NJrn838BAeHv"
      }
    },
    {
      "cell_type": "code",
      "source": [
        "model3=Sequential()\n",
        "model3.add(Embedding(vocab_size + 1, 50, input_length = MAX_LEN))\n",
        "model3.add(SpatialDropout1D(0.2))\n",
        "model3.add(Bidirectional(LSTM(100,dropout=0.2,recurrent_dropout=0.2)))\n",
        "model3.add(Dense(6,activation='softmax'))\n",
        "model3.compile(loss='categorical_crossentropy',optimizer='adam',metrics=['accuracy'])\n",
        "model3.summary()"
      ],
      "metadata": {
        "id": "C_y3rjEYAUqw",
        "colab": {
          "base_uri": "https://localhost:8080/"
        },
        "outputId": "5fcb27bd-b226-4000-cf0b-4c8a12ac6e73"
      },
      "execution_count": 49,
      "outputs": [
        {
          "output_type": "stream",
          "name": "stdout",
          "text": [
            "Model: \"sequential_2\"\n",
            "_________________________________________________________________\n",
            " Layer (type)                Output Shape              Param #   \n",
            "=================================================================\n",
            " embedding_2 (Embedding)     (None, 100, 50)           3287400   \n",
            "                                                                 \n",
            " spatial_dropout1d_2 (Spatia  (None, 100, 50)          0         \n",
            " lDropout1D)                                                     \n",
            "                                                                 \n",
            " bidirectional (Bidirectiona  (None, 200)              120800    \n",
            " l)                                                              \n",
            "                                                                 \n",
            " dense_2 (Dense)             (None, 6)                 1206      \n",
            "                                                                 \n",
            "=================================================================\n",
            "Total params: 3,409,406\n",
            "Trainable params: 3,409,406\n",
            "Non-trainable params: 0\n",
            "_________________________________________________________________\n"
          ]
        }
      ]
    },
    {
      "cell_type": "code",
      "source": [
        "# fit the model\n",
        "history3 = model3.fit(train_sequence, \n",
        "                    y_train, \n",
        "                    batch_size = 64,\n",
        "                    epochs = 5,\n",
        "                    verbose = 1,\n",
        "                    validation_data = (val_sequence, y_val),\n",
        "                    callbacks = [reduce_lr, early_stop])"
      ],
      "metadata": {
        "id": "FnyGk2YTA0Fx",
        "colab": {
          "base_uri": "https://localhost:8080/"
        },
        "outputId": "71c5d5e2-ba5a-4123-a223-decb42e2d143"
      },
      "execution_count": 52,
      "outputs": [
        {
          "output_type": "stream",
          "name": "stdout",
          "text": [
            "Epoch 1/5\n",
            "1329/1329 [==============================] - 783s 589ms/step - loss: 1.0831 - accuracy: 0.5414 - val_loss: 1.1607 - val_accuracy: 0.5033 - lr: 0.0010\n",
            "Epoch 2/5\n",
            "1329/1329 [==============================] - 804s 605ms/step - loss: 0.9899 - accuracy: 0.5893 - val_loss: 1.1662 - val_accuracy: 0.5016 - lr: 0.0010\n",
            "Epoch 3/5\n",
            "1329/1329 [==============================] - ETA: 0s - loss: 0.9097 - accuracy: 0.6303\n",
            "Epoch 3: ReduceLROnPlateau reducing learning rate to 0.00010000000474974513.\n",
            "1329/1329 [==============================] - 777s 585ms/step - loss: 0.9097 - accuracy: 0.6303 - val_loss: 1.2417 - val_accuracy: 0.5023 - lr: 0.0010\n",
            "Epoch 4/5\n",
            "1329/1329 [==============================] - 784s 590ms/step - loss: 0.7621 - accuracy: 0.7042 - val_loss: 1.3067 - val_accuracy: 0.4987 - lr: 1.0000e-04\n",
            "Epoch 5/5\n",
            "1329/1329 [==============================] - ETA: 0s - loss: 0.7354 - accuracy: 0.7155\n",
            "Epoch 5: ReduceLROnPlateau reducing learning rate to 1.0000000474974514e-05.\n",
            "Restoring model weights from the end of the best epoch: 1.\n",
            "1329/1329 [==============================] - 790s 595ms/step - loss: 0.7354 - accuracy: 0.7155 - val_loss: 1.3252 - val_accuracy: 0.4985 - lr: 1.0000e-04\n",
            "Epoch 5: early stopping\n"
          ]
        }
      ]
    },
    {
      "cell_type": "code",
      "source": [
        "loss = history3.history['loss']\n",
        "acc = history3.history['accuracy']\n",
        "val_loss = history3.history['val_loss']\n",
        "val_acc = history3.history['val_accuracy']\n",
        "\n",
        "epochs = range(1, len(loss) + 1)\n",
        "\n",
        "plt.figure(figsize=(16, 5))\n",
        "#accuracy\n",
        "\n",
        "plt.title(\"Bidirectional LSTM Model Results\")\n",
        "plt.subplot(1,2,1)\n",
        "plt.plot(epochs, acc, 'bo', label = 'Training accuracy')\n",
        "plt.plot(epochs, val_acc, 'r', label = 'Validation accuracy')\n",
        "plt.legend()\n",
        "\n",
        "#loss\n",
        "plt.subplot(1,2,2)\n",
        "plt.plot(epochs, loss, 'bo', label = 'Trainig loss')\n",
        "plt.plot(epochs, val_loss, 'r', label = 'Validation loss')\n",
        "plt.legend()\n",
        "\n",
        "plt.show()"
      ],
      "metadata": {
        "colab": {
          "base_uri": "https://localhost:8080/",
          "height": 375
        },
        "id": "l5cd3c5BpKZj",
        "outputId": "e3f6e3f6-df36-40db-bfbb-7db6ca0966b2"
      },
      "execution_count": 53,
      "outputs": [
        {
          "output_type": "stream",
          "name": "stderr",
          "text": [
            "<ipython-input-53-27f9af4b15f4>:11: MatplotlibDeprecationWarning: Auto-removal of overlapping axes is deprecated since 3.6 and will be removed two minor releases later; explicitly call ax.remove() as needed.\n",
            "  plt.subplot(1,2,1)\n"
          ]
        },
        {
          "output_type": "display_data",
          "data": {
            "text/plain": [
              "<Figure size 1152x360 with 2 Axes>"
            ],
            "image/png": "[encoded data removed]"
          },
          "metadata": {
            "needs_background": "light"
          }
        }
      ]
    }
  ]
}